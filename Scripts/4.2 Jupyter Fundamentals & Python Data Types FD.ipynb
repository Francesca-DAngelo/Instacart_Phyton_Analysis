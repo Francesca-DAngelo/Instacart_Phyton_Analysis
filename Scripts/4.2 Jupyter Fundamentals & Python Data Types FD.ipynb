{
 "cells": [
  {
   "cell_type": "markdown",
   "id": "997c30f5",
   "metadata": {},
   "source": [
    "# Import libraries"
   ]
  },
  {
   "cell_type": "code",
   "execution_count": 3,
   "id": "61c8ca5f",
   "metadata": {},
   "outputs": [],
   "source": [
    "import pandas as pd\n",
    "import numpy as np\n",
    "import os"
   ]
  },
  {
   "cell_type": "markdown",
   "id": "52f55ca2",
   "metadata": {},
   "source": [
    "# Data types"
   ]
  },
  {
   "cell_type": "code",
   "execution_count": 4,
   "id": "6fd7b7af",
   "metadata": {},
   "outputs": [],
   "source": [
    "x = 50"
   ]
  },
  {
   "cell_type": "code",
   "execution_count": 6,
   "id": "f8500261",
   "metadata": {},
   "outputs": [],
   "source": [
    "y = 25"
   ]
  },
  {
   "cell_type": "code",
   "execution_count": 7,
   "id": "f5930eba",
   "metadata": {},
   "outputs": [
    {
     "data": {
      "text/plain": [
       "100"
      ]
     },
     "execution_count": 7,
     "metadata": {},
     "output_type": "execute_result"
    }
   ],
   "source": [
    "x + y + y"
   ]
  },
  {
   "cell_type": "code",
   "execution_count": 8,
   "id": "13aac212",
   "metadata": {},
   "outputs": [],
   "source": [
    "z = 200"
   ]
  },
  {
   "cell_type": "code",
   "execution_count": 9,
   "id": "e3143900",
   "metadata": {},
   "outputs": [
    {
     "data": {
      "text/plain": [
       "100"
      ]
     },
     "execution_count": 9,
     "metadata": {},
     "output_type": "execute_result"
    }
   ],
   "source": [
    "z - (x * 2)"
   ]
  },
  {
   "cell_type": "code",
   "execution_count": 11,
   "id": "44f2229f",
   "metadata": {
    "scrolled": true
   },
   "outputs": [
    {
     "data": {
      "text/plain": [
       "100"
      ]
     },
     "execution_count": 11,
     "metadata": {},
     "output_type": "execute_result"
    }
   ],
   "source": [
    "z - (x + y + y)"
   ]
  },
  {
   "cell_type": "code",
   "execution_count": 12,
   "id": "207e781d",
   "metadata": {},
   "outputs": [],
   "source": [
    " n = 5.25"
   ]
  },
  {
   "cell_type": "code",
   "execution_count": 13,
   "id": "d54dc30b",
   "metadata": {},
   "outputs": [],
   "source": [
    "m = 25.75"
   ]
  },
  {
   "cell_type": "code",
   "execution_count": 14,
   "id": "2a15d540",
   "metadata": {},
   "outputs": [
    {
     "data": {
      "text/plain": [
       "4.904761904761905"
      ]
     },
     "execution_count": 14,
     "metadata": {},
     "output_type": "execute_result"
    }
   ],
   "source": [
    "m / n"
   ]
  },
  {
   "cell_type": "code",
   "execution_count": 15,
   "id": "788cca80",
   "metadata": {},
   "outputs": [],
   "source": [
    "a = 'ba'"
   ]
  },
  {
   "cell_type": "code",
   "execution_count": 16,
   "id": "e553b080",
   "metadata": {},
   "outputs": [],
   "source": [
    "b = 'na'"
   ]
  },
  {
   "cell_type": "code",
   "execution_count": 17,
   "id": "eccedcdd",
   "metadata": {},
   "outputs": [
    {
     "data": {
      "text/plain": [
       "'banana'"
      ]
     },
     "execution_count": 17,
     "metadata": {},
     "output_type": "execute_result"
    }
   ],
   "source": [
    "a + (b*2)"
   ]
  },
  {
   "cell_type": "code",
   "execution_count": 24,
   "id": "00ea4acf",
   "metadata": {},
   "outputs": [],
   "source": [
    "c = 'Good '"
   ]
  },
  {
   "cell_type": "code",
   "execution_count": 19,
   "id": "6d9f99c9",
   "metadata": {},
   "outputs": [],
   "source": [
    "d = 'Night, '"
   ]
  },
  {
   "cell_type": "code",
   "execution_count": 21,
   "id": "0c56e999",
   "metadata": {},
   "outputs": [],
   "source": [
    "e = 'Morning, '"
   ]
  },
  {
   "cell_type": "code",
   "execution_count": 22,
   "id": "b08bdda9",
   "metadata": {},
   "outputs": [],
   "source": [
    "f = 'world!'"
   ]
  },
  {
   "cell_type": "code",
   "execution_count": 25,
   "id": "14d61693",
   "metadata": {},
   "outputs": [
    {
     "data": {
      "text/plain": [
       "'Good Morning, world!'"
      ]
     },
     "execution_count": 25,
     "metadata": {},
     "output_type": "execute_result"
    }
   ],
   "source": [
    "c + e + f"
   ]
  },
  {
   "cell_type": "code",
   "execution_count": 26,
   "id": "8a785f2a",
   "metadata": {},
   "outputs": [
    {
     "data": {
      "text/plain": [
       "'Good Night, world!'"
      ]
     },
     "execution_count": 26,
     "metadata": {},
     "output_type": "execute_result"
    }
   ],
   "source": [
    "c + d + f"
   ]
  },
  {
   "cell_type": "code",
   "execution_count": 27,
   "id": "8d6758d8",
   "metadata": {},
   "outputs": [
    {
     "data": {
      "text/plain": [
       "'bananabananabananabananabananabananabananabananabananabananabananabananabananabananabananabananabananabananabananabananabananabananabananabananabananabananabananabananabananabananabananabananabananabananabananabananabananabananabananabananabananabananabananabananabananabananabananabananabananabananabananabananabananabananabananabananabananabananabananabananabananabananabananabananabananabananabananabananabananabananabananabananabananabananabananabananabananabananabananabananabananabananabananabananabananabananabananabananabananabananabananabananabananabananabananabananabananabananabananabanana'"
      ]
     },
     "execution_count": 27,
     "metadata": {},
     "output_type": "execute_result"
    }
   ],
   "source": [
    "(a + b + b)*100"
   ]
  }
 ],
 "metadata": {
  "kernelspec": {
   "display_name": "Python 3 (ipykernel)",
   "language": "python",
   "name": "python3"
  },
  "language_info": {
   "codemirror_mode": {
    "name": "ipython",
    "version": 3
   },
   "file_extension": ".py",
   "mimetype": "text/x-python",
   "name": "python",
   "nbconvert_exporter": "python",
   "pygments_lexer": "ipython3",
   "version": "3.9.13"
  }
 },
 "nbformat": 4,
 "nbformat_minor": 5
}
