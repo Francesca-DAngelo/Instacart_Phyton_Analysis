{
 "cells": [
  {
   "cell_type": "markdown",
   "id": "634906a3",
   "metadata": {},
   "source": [
    "# Table of contents"
   ]
  },
  {
   "cell_type": "markdown",
   "id": "5ed43c62",
   "metadata": {},
   "source": [
    "1. Import libraries and the most recently updated data set.\n",
    "2. Address any PII in this new data to consider any security implications that may exist.\n",
    "3. Create a regional segmentation of the data.\n",
    "4. Create an exclusion flag for low-activity customers and exclude them from the data set.\n",
    "5. Define a variable for profiling.\n",
    "\n",
    "   a. Define a demographic segmentation;\n",
    "   \n",
    "   b. Define a behavioural segmentation;\n",
    "   \n",
    "   \n",
    "6. Create visualizationa to show the distribution of profiles.\n",
    "7. Create a customer profile aggregation for usage frequency and expenditure.\n",
    "8. Compare the different profiles with regions and departments.\n",
    "9. Export dataset and visualizations."
   ]
  },
  {
   "cell_type": "markdown",
   "id": "5cb21d45",
   "metadata": {},
   "source": [
    "# 1. Import libraries and the most recently updated data set"
   ]
  },
  {
   "cell_type": "code",
   "execution_count": 1,
   "id": "feabbef4",
   "metadata": {},
   "outputs": [],
   "source": [
    "# Importing libraries\n",
    "import pandas as pd\n",
    "import numpy as np\n",
    "import os\n",
    "import matplotlib.pyplot as plt\n",
    "import seaborn as sns\n",
    "import scipy"
   ]
  },
  {
   "cell_type": "code",
   "execution_count": 2,
   "id": "c80f3939",
   "metadata": {},
   "outputs": [],
   "source": [
    "# Defining the path\n",
    "path = r'C:\\Users\\franc\\Documents\\01-2023 Instacart Basket Analysis'"
   ]
  },
  {
   "cell_type": "code",
   "execution_count": 3,
   "id": "9e247367",
   "metadata": {},
   "outputs": [],
   "source": [
    "# Import the most up-to-date project data\n",
    "df_final= pd.read_pickle(os.path.join(path, '02 Data', 'Prepared Data', 'ords_prods_cust_combined.pkl'))"
   ]
  },
  {
   "cell_type": "code",
   "execution_count": 4,
   "id": "6d2a9e0e",
   "metadata": {},
   "outputs": [],
   "source": [
    "# Import the most up-to-date \"departments\" dataset\n",
    "df_depts = pd.read_csv(os.path.join(path, '02 Data', 'Prepared Data', 'departments_wrangled.csv'))"
   ]
  },
  {
   "cell_type": "markdown",
   "id": "fb24ead4",
   "metadata": {},
   "source": [
    "# 2. Address any PII in this new data to consider any security implications that may exist"
   ]
  },
  {
   "cell_type": "code",
   "execution_count": 5,
   "id": "b4d45c78",
   "metadata": {},
   "outputs": [
    {
     "name": "stdout",
     "output_type": "stream",
     "text": [
      "<class 'pandas.core.frame.DataFrame'>\n",
      "Int64Index: 32404859 entries, 0 to 32404858\n",
      "Data columns (total 31 columns):\n",
      " #   Column                  Dtype   \n",
      "---  ------                  -----   \n",
      " 0   order_id                int64   \n",
      " 1   user_id                 int64   \n",
      " 2   order_number            int64   \n",
      " 3   orders_day_of_week      int64   \n",
      " 4   order_hour_of_day       int64   \n",
      " 5   days_since_prior_order  float64 \n",
      " 6   new_customer            bool    \n",
      " 7   product_id              int64   \n",
      " 8   add_to_cart_order       int64   \n",
      " 9   reordered               int64   \n",
      " 10  product_name            object  \n",
      " 11  aisle_id                int64   \n",
      " 12  department_id           int64   \n",
      " 13  prices                  float64 \n",
      " 14  _merge                  category\n",
      " 15  busiest_days            object  \n",
      " 16  busiest_day             object  \n",
      " 17  busiest_hours           object  \n",
      " 18  max_order               int64   \n",
      " 19  loyalty_flag            object  \n",
      " 20  average_price           float64 \n",
      " 21  average_order_flag      object  \n",
      " 22  median_prior_order      float64 \n",
      " 23  frequency_order_flag    object  \n",
      " 24  gender                  object  \n",
      " 25  state                   object  \n",
      " 26  age                     int64   \n",
      " 27  date_joined             object  \n",
      " 28  n_dependants            int64   \n",
      " 29  marital_status          object  \n",
      " 30  income                  int64   \n",
      "dtypes: bool(1), category(1), float64(4), int64(14), object(11)\n",
      "memory usage: 7.3+ GB\n"
     ]
    }
   ],
   "source": [
    "# General checkings\n",
    "df_final.info()"
   ]
  },
  {
   "cell_type": "code",
   "execution_count": 6,
   "id": "8dde8ccb",
   "metadata": {},
   "outputs": [],
   "source": [
    "# Reduce the memory usage to avoid memory issues\n",
    "for column in df_final:\n",
    " if df_final[column].dtype == 'float64':\n",
    "     df_final[column]=pd.to_numeric(df_final[column], downcast='float')\n",
    " if df_final[column].dtype == 'int64':\n",
    "     df_final[column]=pd.to_numeric(df_final[column], downcast='integer')"
   ]
  },
  {
   "cell_type": "code",
   "execution_count": 7,
   "id": "fb0697c2",
   "metadata": {},
   "outputs": [],
   "source": [
    "# Change a variable to a suitable format\n",
    "df_final['days_since_prior_order'] = df_final['days_since_prior_order'].astype('float16')"
   ]
  },
  {
   "cell_type": "code",
   "execution_count": 8,
   "id": "e1ab4eee",
   "metadata": {},
   "outputs": [],
   "source": [
    "df_final['loyalty_flag'] = df_final['loyalty_flag'].astype('category')"
   ]
  },
  {
   "cell_type": "code",
   "execution_count": 9,
   "id": "0fe44539",
   "metadata": {},
   "outputs": [],
   "source": [
    "df_final['frequency_order_flag'] = df_final['frequency_order_flag'].astype('category')"
   ]
  },
  {
   "cell_type": "code",
   "execution_count": 10,
   "id": "724d59b1",
   "metadata": {},
   "outputs": [],
   "source": [
    "df_final['average_order_flag'] = df_final['average_order_flag'].astype('category')"
   ]
  },
  {
   "cell_type": "code",
   "execution_count": 11,
   "id": "28469926",
   "metadata": {},
   "outputs": [
    {
     "name": "stdout",
     "output_type": "stream",
     "text": [
      "<class 'pandas.core.frame.DataFrame'>\n",
      "Int64Index: 32404859 entries, 0 to 32404858\n",
      "Data columns (total 31 columns):\n",
      " #   Column                  Dtype   \n",
      "---  ------                  -----   \n",
      " 0   order_id                int32   \n",
      " 1   user_id                 int32   \n",
      " 2   order_number            int8    \n",
      " 3   orders_day_of_week      int8    \n",
      " 4   order_hour_of_day       int8    \n",
      " 5   days_since_prior_order  float16 \n",
      " 6   new_customer            bool    \n",
      " 7   product_id              int32   \n",
      " 8   add_to_cart_order       int16   \n",
      " 9   reordered               int8    \n",
      " 10  product_name            object  \n",
      " 11  aisle_id                int16   \n",
      " 12  department_id           int8    \n",
      " 13  prices                  float32 \n",
      " 14  _merge                  category\n",
      " 15  busiest_days            object  \n",
      " 16  busiest_day             object  \n",
      " 17  busiest_hours           object  \n",
      " 18  max_order               int8    \n",
      " 19  loyalty_flag            category\n",
      " 20  average_price           float32 \n",
      " 21  average_order_flag      category\n",
      " 22  median_prior_order      float32 \n",
      " 23  frequency_order_flag    category\n",
      " 24  gender                  object  \n",
      " 25  state                   object  \n",
      " 26  age                     int8    \n",
      " 27  date_joined             object  \n",
      " 28  n_dependants            int8    \n",
      " 29  marital_status          object  \n",
      " 30  income                  int32   \n",
      "dtypes: bool(1), category(4), float16(1), float32(3), int16(2), int32(4), int8(8), object(8)\n",
      "memory usage: 3.6+ GB\n"
     ]
    }
   ],
   "source": [
    "# Check the result\n",
    "df_final.info()"
   ]
  },
  {
   "cell_type": "code",
   "execution_count": 12,
   "id": "06fed65a",
   "metadata": {},
   "outputs": [
    {
     "data": {
      "text/plain": [
       "(32404859, 31)"
      ]
     },
     "execution_count": 12,
     "metadata": {},
     "output_type": "execute_result"
    }
   ],
   "source": [
    "# Check the shape of data set\n",
    "df_final.shape"
   ]
  },
  {
   "cell_type": "code",
   "execution_count": 13,
   "id": "55b4ef32",
   "metadata": {},
   "outputs": [
    {
     "data": {
      "text/html": [
       "<div>\n",
       "<style scoped>\n",
       "    .dataframe tbody tr th:only-of-type {\n",
       "        vertical-align: middle;\n",
       "    }\n",
       "\n",
       "    .dataframe tbody tr th {\n",
       "        vertical-align: top;\n",
       "    }\n",
       "\n",
       "    .dataframe thead th {\n",
       "        text-align: right;\n",
       "    }\n",
       "</style>\n",
       "<table border=\"1\" class=\"dataframe\">\n",
       "  <thead>\n",
       "    <tr style=\"text-align: right;\">\n",
       "      <th></th>\n",
       "      <th>order_id</th>\n",
       "      <th>user_id</th>\n",
       "      <th>order_number</th>\n",
       "      <th>orders_day_of_week</th>\n",
       "      <th>order_hour_of_day</th>\n",
       "      <th>days_since_prior_order</th>\n",
       "      <th>new_customer</th>\n",
       "      <th>product_id</th>\n",
       "      <th>add_to_cart_order</th>\n",
       "      <th>reordered</th>\n",
       "      <th>...</th>\n",
       "      <th>average_order_flag</th>\n",
       "      <th>median_prior_order</th>\n",
       "      <th>frequency_order_flag</th>\n",
       "      <th>gender</th>\n",
       "      <th>state</th>\n",
       "      <th>age</th>\n",
       "      <th>date_joined</th>\n",
       "      <th>n_dependants</th>\n",
       "      <th>marital_status</th>\n",
       "      <th>income</th>\n",
       "    </tr>\n",
       "  </thead>\n",
       "  <tbody>\n",
       "    <tr>\n",
       "      <th>0</th>\n",
       "      <td>2539329</td>\n",
       "      <td>1</td>\n",
       "      <td>1</td>\n",
       "      <td>2</td>\n",
       "      <td>8</td>\n",
       "      <td>-1.0</td>\n",
       "      <td>False</td>\n",
       "      <td>196</td>\n",
       "      <td>1</td>\n",
       "      <td>0</td>\n",
       "      <td>...</td>\n",
       "      <td>Low spender</td>\n",
       "      <td>18.457626</td>\n",
       "      <td>Regular customer</td>\n",
       "      <td>Female</td>\n",
       "      <td>Alabama</td>\n",
       "      <td>31</td>\n",
       "      <td>2/17/2019</td>\n",
       "      <td>3</td>\n",
       "      <td>married</td>\n",
       "      <td>40423</td>\n",
       "    </tr>\n",
       "    <tr>\n",
       "      <th>1</th>\n",
       "      <td>2398795</td>\n",
       "      <td>1</td>\n",
       "      <td>2</td>\n",
       "      <td>3</td>\n",
       "      <td>7</td>\n",
       "      <td>15.0</td>\n",
       "      <td>False</td>\n",
       "      <td>196</td>\n",
       "      <td>1</td>\n",
       "      <td>1</td>\n",
       "      <td>...</td>\n",
       "      <td>Low spender</td>\n",
       "      <td>18.457626</td>\n",
       "      <td>Regular customer</td>\n",
       "      <td>Female</td>\n",
       "      <td>Alabama</td>\n",
       "      <td>31</td>\n",
       "      <td>2/17/2019</td>\n",
       "      <td>3</td>\n",
       "      <td>married</td>\n",
       "      <td>40423</td>\n",
       "    </tr>\n",
       "    <tr>\n",
       "      <th>2</th>\n",
       "      <td>473747</td>\n",
       "      <td>1</td>\n",
       "      <td>3</td>\n",
       "      <td>3</td>\n",
       "      <td>12</td>\n",
       "      <td>21.0</td>\n",
       "      <td>False</td>\n",
       "      <td>196</td>\n",
       "      <td>1</td>\n",
       "      <td>1</td>\n",
       "      <td>...</td>\n",
       "      <td>Low spender</td>\n",
       "      <td>18.457626</td>\n",
       "      <td>Regular customer</td>\n",
       "      <td>Female</td>\n",
       "      <td>Alabama</td>\n",
       "      <td>31</td>\n",
       "      <td>2/17/2019</td>\n",
       "      <td>3</td>\n",
       "      <td>married</td>\n",
       "      <td>40423</td>\n",
       "    </tr>\n",
       "    <tr>\n",
       "      <th>3</th>\n",
       "      <td>2254736</td>\n",
       "      <td>1</td>\n",
       "      <td>4</td>\n",
       "      <td>4</td>\n",
       "      <td>7</td>\n",
       "      <td>29.0</td>\n",
       "      <td>False</td>\n",
       "      <td>196</td>\n",
       "      <td>1</td>\n",
       "      <td>1</td>\n",
       "      <td>...</td>\n",
       "      <td>Low spender</td>\n",
       "      <td>18.457626</td>\n",
       "      <td>Regular customer</td>\n",
       "      <td>Female</td>\n",
       "      <td>Alabama</td>\n",
       "      <td>31</td>\n",
       "      <td>2/17/2019</td>\n",
       "      <td>3</td>\n",
       "      <td>married</td>\n",
       "      <td>40423</td>\n",
       "    </tr>\n",
       "    <tr>\n",
       "      <th>4</th>\n",
       "      <td>431534</td>\n",
       "      <td>1</td>\n",
       "      <td>5</td>\n",
       "      <td>4</td>\n",
       "      <td>15</td>\n",
       "      <td>28.0</td>\n",
       "      <td>False</td>\n",
       "      <td>196</td>\n",
       "      <td>1</td>\n",
       "      <td>1</td>\n",
       "      <td>...</td>\n",
       "      <td>Low spender</td>\n",
       "      <td>18.457626</td>\n",
       "      <td>Regular customer</td>\n",
       "      <td>Female</td>\n",
       "      <td>Alabama</td>\n",
       "      <td>31</td>\n",
       "      <td>2/17/2019</td>\n",
       "      <td>3</td>\n",
       "      <td>married</td>\n",
       "      <td>40423</td>\n",
       "    </tr>\n",
       "  </tbody>\n",
       "</table>\n",
       "<p>5 rows × 31 columns</p>\n",
       "</div>"
      ],
      "text/plain": [
       "   order_id  user_id  order_number  orders_day_of_week  order_hour_of_day  \\\n",
       "0   2539329        1             1                   2                  8   \n",
       "1   2398795        1             2                   3                  7   \n",
       "2    473747        1             3                   3                 12   \n",
       "3   2254736        1             4                   4                  7   \n",
       "4    431534        1             5                   4                 15   \n",
       "\n",
       "   days_since_prior_order  new_customer  product_id  add_to_cart_order  \\\n",
       "0                    -1.0         False         196                  1   \n",
       "1                    15.0         False         196                  1   \n",
       "2                    21.0         False         196                  1   \n",
       "3                    29.0         False         196                  1   \n",
       "4                    28.0         False         196                  1   \n",
       "\n",
       "   reordered  ... average_order_flag  median_prior_order  \\\n",
       "0          0  ...        Low spender           18.457626   \n",
       "1          1  ...        Low spender           18.457626   \n",
       "2          1  ...        Low spender           18.457626   \n",
       "3          1  ...        Low spender           18.457626   \n",
       "4          1  ...        Low spender           18.457626   \n",
       "\n",
       "   frequency_order_flag  gender    state age date_joined n_dependants  \\\n",
       "0      Regular customer  Female  Alabama  31   2/17/2019            3   \n",
       "1      Regular customer  Female  Alabama  31   2/17/2019            3   \n",
       "2      Regular customer  Female  Alabama  31   2/17/2019            3   \n",
       "3      Regular customer  Female  Alabama  31   2/17/2019            3   \n",
       "4      Regular customer  Female  Alabama  31   2/17/2019            3   \n",
       "\n",
       "   marital_status income  \n",
       "0         married  40423  \n",
       "1         married  40423  \n",
       "2         married  40423  \n",
       "3         married  40423  \n",
       "4         married  40423  \n",
       "\n",
       "[5 rows x 31 columns]"
      ]
     },
     "execution_count": 13,
     "metadata": {},
     "output_type": "execute_result"
    }
   ],
   "source": [
    "df_final.head(5)"
   ]
  },
  {
   "cell_type": "markdown",
   "id": "c0b30747",
   "metadata": {},
   "source": [
    "The dataframe once had PII data (customer names and surnames), but those columns were removed in previous exercise because they were irrelevant to this project. Consequently, the data no longer contains sensitive information."
   ]
  },
  {
   "cell_type": "markdown",
   "id": "da9b0cc3",
   "metadata": {},
   "source": [
    "# 3.Create a regional segmentation of the data"
   ]
  },
  {
   "cell_type": "code",
   "execution_count": 14,
   "id": "f3ed0de7",
   "metadata": {},
   "outputs": [
    {
     "data": {
      "text/plain": [
       "Pennsylvania            667082\n",
       "California              659783\n",
       "Rhode Island            656913\n",
       "Georgia                 656389\n",
       "New Mexico              654494\n",
       "Arizona                 653964\n",
       "North Carolina          651900\n",
       "Oklahoma                651739\n",
       "Alaska                  648495\n",
       "Minnesota               647825\n",
       "Massachusetts           646358\n",
       "Wyoming                 644255\n",
       "Virginia                641421\n",
       "Missouri                640732\n",
       "Texas                   640394\n",
       "Colorado                639280\n",
       "Maine                   638583\n",
       "North Dakota            638491\n",
       "Alabama                 638003\n",
       "Kansas                  637538\n",
       "Louisiana               637482\n",
       "Delaware                637024\n",
       "South Carolina          636754\n",
       "Oregon                  636425\n",
       "Arkansas                636144\n",
       "Nevada                  636139\n",
       "New York                635983\n",
       "Montana                 635265\n",
       "South Dakota            633772\n",
       "Illinois                633024\n",
       "Hawaii                  632901\n",
       "Washington              632852\n",
       "Mississippi             632675\n",
       "Kentucky                632490\n",
       "Michigan                630928\n",
       "Florida                 629027\n",
       "Ohio                    628319\n",
       "Wisconsin               628108\n",
       "New Jersey              627692\n",
       "Indiana                 627282\n",
       "Maryland                626579\n",
       "Nebraska                625813\n",
       "Iowa                    625493\n",
       "Connecticut             623022\n",
       "Tennessee               617873\n",
       "New Hampshire           615378\n",
       "District of Columbia    613695\n",
       "West Virginia           612296\n",
       "Utah                    611941\n",
       "Vermont                 611725\n",
       "Idaho                   607119\n",
       "Name: state, dtype: int64"
      ]
     },
     "execution_count": 14,
     "metadata": {},
     "output_type": "execute_result"
    }
   ],
   "source": [
    "df_final['state'].value_counts(dropna = False)"
   ]
  },
  {
   "cell_type": "code",
   "execution_count": 15,
   "id": "a4e61f6e",
   "metadata": {},
   "outputs": [],
   "source": [
    "# Defining different regions\n",
    "region_one_northeast = ['Maine','New Hampshire','Vermont','Massachusetts','Rhode Island','Connecticut','New York','Pennsylvania','New Jersey']"
   ]
  },
  {
   "cell_type": "code",
   "execution_count": 16,
   "id": "9733ccd0",
   "metadata": {},
   "outputs": [],
   "source": [
    "region_two_midwest = ['Wisconsin', 'Michigan', 'Illinois', 'Indiana', 'Ohio', 'North Dakota', 'South Dakota', 'Nebraska', 'Kansas', 'Minnesota', 'Iowa', 'Missouri']"
   ]
  },
  {
   "cell_type": "code",
   "execution_count": 17,
   "id": "80e1598b",
   "metadata": {},
   "outputs": [],
   "source": [
    "region_three_south = ['Delaware','Maryland','District of Columbia','Virginia','West Virginia','North Carolina','South Carolina','Georgia','Florida','Kentucky','Tennessee','Mississippi','Alabama','Oklahoma','Texas','Arkansas','Louisiana']"
   ]
  },
  {
   "cell_type": "code",
   "execution_count": 18,
   "id": "32ad2bb0",
   "metadata": {},
   "outputs": [],
   "source": [
    "region_four_west = ['Idaho','Montana','Wyoming','Nevada','Utah','Colorado','Arizona','New Mexico','Alaska','Washington','Oregon','California','Hawaii']"
   ]
  },
  {
   "cell_type": "code",
   "execution_count": 19,
   "id": "144a2ed3",
   "metadata": {},
   "outputs": [],
   "source": [
    "# Creating a new 'region' column\n",
    "df_final.loc[df_final['state'].isin(region_one_northeast), 'region'] = 'Northeast'"
   ]
  },
  {
   "cell_type": "code",
   "execution_count": 20,
   "id": "cc20cada",
   "metadata": {},
   "outputs": [],
   "source": [
    "df_final.loc[df_final['state'].isin(region_two_midwest), 'region'] = 'Midwest'"
   ]
  },
  {
   "cell_type": "code",
   "execution_count": 21,
   "id": "552df8e0",
   "metadata": {},
   "outputs": [],
   "source": [
    "df_final.loc[df_final['state'].isin(region_three_south), 'region'] = 'South'"
   ]
  },
  {
   "cell_type": "code",
   "execution_count": 22,
   "id": "2e6f0047",
   "metadata": {},
   "outputs": [],
   "source": [
    "df_final.loc[df_final['state'].isin(region_four_west), 'region'] = 'West'"
   ]
  },
  {
   "cell_type": "code",
   "execution_count": 23,
   "id": "e9790cd1",
   "metadata": {},
   "outputs": [
    {
     "data": {
      "text/plain": [
       "South        10791885\n",
       "West          8292913\n",
       "Midwest       7597325\n",
       "Northeast     5722736\n",
       "Name: region, dtype: int64"
      ]
     },
     "execution_count": 23,
     "metadata": {},
     "output_type": "execute_result"
    }
   ],
   "source": [
    "# Checking the results\n",
    "df_final['region'].value_counts(dropna = False)"
   ]
  },
  {
   "cell_type": "code",
   "execution_count": 24,
   "id": "49f6c8c8",
   "metadata": {},
   "outputs": [
    {
     "data": {
      "text/plain": [
       "(32404859, 32)"
      ]
     },
     "execution_count": 24,
     "metadata": {},
     "output_type": "execute_result"
    }
   ],
   "source": [
    "df_final.shape"
   ]
  },
  {
   "cell_type": "code",
   "execution_count": 25,
   "id": "6d5799fd",
   "metadata": {},
   "outputs": [
    {
     "data": {
      "text/html": [
       "<div>\n",
       "<style scoped>\n",
       "    .dataframe tbody tr th:only-of-type {\n",
       "        vertical-align: middle;\n",
       "    }\n",
       "\n",
       "    .dataframe tbody tr th {\n",
       "        vertical-align: top;\n",
       "    }\n",
       "\n",
       "    .dataframe thead th {\n",
       "        text-align: right;\n",
       "    }\n",
       "</style>\n",
       "<table border=\"1\" class=\"dataframe\">\n",
       "  <thead>\n",
       "    <tr style=\"text-align: right;\">\n",
       "      <th></th>\n",
       "      <th>order_id</th>\n",
       "      <th>user_id</th>\n",
       "      <th>order_number</th>\n",
       "      <th>orders_day_of_week</th>\n",
       "      <th>order_hour_of_day</th>\n",
       "      <th>days_since_prior_order</th>\n",
       "      <th>new_customer</th>\n",
       "      <th>product_id</th>\n",
       "      <th>add_to_cart_order</th>\n",
       "      <th>reordered</th>\n",
       "      <th>...</th>\n",
       "      <th>median_prior_order</th>\n",
       "      <th>frequency_order_flag</th>\n",
       "      <th>gender</th>\n",
       "      <th>state</th>\n",
       "      <th>age</th>\n",
       "      <th>date_joined</th>\n",
       "      <th>n_dependants</th>\n",
       "      <th>marital_status</th>\n",
       "      <th>income</th>\n",
       "      <th>region</th>\n",
       "    </tr>\n",
       "  </thead>\n",
       "  <tbody>\n",
       "    <tr>\n",
       "      <th>0</th>\n",
       "      <td>2539329</td>\n",
       "      <td>1</td>\n",
       "      <td>1</td>\n",
       "      <td>2</td>\n",
       "      <td>8</td>\n",
       "      <td>-1.0</td>\n",
       "      <td>False</td>\n",
       "      <td>196</td>\n",
       "      <td>1</td>\n",
       "      <td>0</td>\n",
       "      <td>...</td>\n",
       "      <td>18.457626</td>\n",
       "      <td>Regular customer</td>\n",
       "      <td>Female</td>\n",
       "      <td>Alabama</td>\n",
       "      <td>31</td>\n",
       "      <td>2/17/2019</td>\n",
       "      <td>3</td>\n",
       "      <td>married</td>\n",
       "      <td>40423</td>\n",
       "      <td>South</td>\n",
       "    </tr>\n",
       "    <tr>\n",
       "      <th>1</th>\n",
       "      <td>2398795</td>\n",
       "      <td>1</td>\n",
       "      <td>2</td>\n",
       "      <td>3</td>\n",
       "      <td>7</td>\n",
       "      <td>15.0</td>\n",
       "      <td>False</td>\n",
       "      <td>196</td>\n",
       "      <td>1</td>\n",
       "      <td>1</td>\n",
       "      <td>...</td>\n",
       "      <td>18.457626</td>\n",
       "      <td>Regular customer</td>\n",
       "      <td>Female</td>\n",
       "      <td>Alabama</td>\n",
       "      <td>31</td>\n",
       "      <td>2/17/2019</td>\n",
       "      <td>3</td>\n",
       "      <td>married</td>\n",
       "      <td>40423</td>\n",
       "      <td>South</td>\n",
       "    </tr>\n",
       "    <tr>\n",
       "      <th>2</th>\n",
       "      <td>473747</td>\n",
       "      <td>1</td>\n",
       "      <td>3</td>\n",
       "      <td>3</td>\n",
       "      <td>12</td>\n",
       "      <td>21.0</td>\n",
       "      <td>False</td>\n",
       "      <td>196</td>\n",
       "      <td>1</td>\n",
       "      <td>1</td>\n",
       "      <td>...</td>\n",
       "      <td>18.457626</td>\n",
       "      <td>Regular customer</td>\n",
       "      <td>Female</td>\n",
       "      <td>Alabama</td>\n",
       "      <td>31</td>\n",
       "      <td>2/17/2019</td>\n",
       "      <td>3</td>\n",
       "      <td>married</td>\n",
       "      <td>40423</td>\n",
       "      <td>South</td>\n",
       "    </tr>\n",
       "    <tr>\n",
       "      <th>3</th>\n",
       "      <td>2254736</td>\n",
       "      <td>1</td>\n",
       "      <td>4</td>\n",
       "      <td>4</td>\n",
       "      <td>7</td>\n",
       "      <td>29.0</td>\n",
       "      <td>False</td>\n",
       "      <td>196</td>\n",
       "      <td>1</td>\n",
       "      <td>1</td>\n",
       "      <td>...</td>\n",
       "      <td>18.457626</td>\n",
       "      <td>Regular customer</td>\n",
       "      <td>Female</td>\n",
       "      <td>Alabama</td>\n",
       "      <td>31</td>\n",
       "      <td>2/17/2019</td>\n",
       "      <td>3</td>\n",
       "      <td>married</td>\n",
       "      <td>40423</td>\n",
       "      <td>South</td>\n",
       "    </tr>\n",
       "    <tr>\n",
       "      <th>4</th>\n",
       "      <td>431534</td>\n",
       "      <td>1</td>\n",
       "      <td>5</td>\n",
       "      <td>4</td>\n",
       "      <td>15</td>\n",
       "      <td>28.0</td>\n",
       "      <td>False</td>\n",
       "      <td>196</td>\n",
       "      <td>1</td>\n",
       "      <td>1</td>\n",
       "      <td>...</td>\n",
       "      <td>18.457626</td>\n",
       "      <td>Regular customer</td>\n",
       "      <td>Female</td>\n",
       "      <td>Alabama</td>\n",
       "      <td>31</td>\n",
       "      <td>2/17/2019</td>\n",
       "      <td>3</td>\n",
       "      <td>married</td>\n",
       "      <td>40423</td>\n",
       "      <td>South</td>\n",
       "    </tr>\n",
       "  </tbody>\n",
       "</table>\n",
       "<p>5 rows × 32 columns</p>\n",
       "</div>"
      ],
      "text/plain": [
       "   order_id  user_id  order_number  orders_day_of_week  order_hour_of_day  \\\n",
       "0   2539329        1             1                   2                  8   \n",
       "1   2398795        1             2                   3                  7   \n",
       "2    473747        1             3                   3                 12   \n",
       "3   2254736        1             4                   4                  7   \n",
       "4    431534        1             5                   4                 15   \n",
       "\n",
       "   days_since_prior_order  new_customer  product_id  add_to_cart_order  \\\n",
       "0                    -1.0         False         196                  1   \n",
       "1                    15.0         False         196                  1   \n",
       "2                    21.0         False         196                  1   \n",
       "3                    29.0         False         196                  1   \n",
       "4                    28.0         False         196                  1   \n",
       "\n",
       "   reordered  ... median_prior_order  frequency_order_flag  gender    state  \\\n",
       "0          0  ...          18.457626      Regular customer  Female  Alabama   \n",
       "1          1  ...          18.457626      Regular customer  Female  Alabama   \n",
       "2          1  ...          18.457626      Regular customer  Female  Alabama   \n",
       "3          1  ...          18.457626      Regular customer  Female  Alabama   \n",
       "4          1  ...          18.457626      Regular customer  Female  Alabama   \n",
       "\n",
       "  age date_joined n_dependants marital_status  income region  \n",
       "0  31   2/17/2019            3        married   40423  South  \n",
       "1  31   2/17/2019            3        married   40423  South  \n",
       "2  31   2/17/2019            3        married   40423  South  \n",
       "3  31   2/17/2019            3        married   40423  South  \n",
       "4  31   2/17/2019            3        married   40423  South  \n",
       "\n",
       "[5 rows x 32 columns]"
      ]
     },
     "execution_count": 25,
     "metadata": {},
     "output_type": "execute_result"
    }
   ],
   "source": [
    "df_final.head(5)"
   ]
  },
  {
   "cell_type": "code",
   "execution_count": 26,
   "id": "12a99b34",
   "metadata": {},
   "outputs": [],
   "source": [
    "# Determine whether there’s a difference in spending habits between the different U.S. regions\n",
    "crosstab_spending = pd.crosstab(df_final['region'], df_final['average_order_flag'], dropna = False)"
   ]
  },
  {
   "cell_type": "code",
   "execution_count": 27,
   "id": "66e15ad6",
   "metadata": {},
   "outputs": [
    {
     "data": {
      "text/html": [
       "<div>\n",
       "<style scoped>\n",
       "    .dataframe tbody tr th:only-of-type {\n",
       "        vertical-align: middle;\n",
       "    }\n",
       "\n",
       "    .dataframe tbody tr th {\n",
       "        vertical-align: top;\n",
       "    }\n",
       "\n",
       "    .dataframe thead th {\n",
       "        text-align: right;\n",
       "    }\n",
       "</style>\n",
       "<table border=\"1\" class=\"dataframe\">\n",
       "  <thead>\n",
       "    <tr style=\"text-align: right;\">\n",
       "      <th>average_order_flag</th>\n",
       "      <th>High spender</th>\n",
       "      <th>Low spender</th>\n",
       "    </tr>\n",
       "    <tr>\n",
       "      <th>region</th>\n",
       "      <th></th>\n",
       "      <th></th>\n",
       "    </tr>\n",
       "  </thead>\n",
       "  <tbody>\n",
       "    <tr>\n",
       "      <th>Midwest</th>\n",
       "      <td>155975</td>\n",
       "      <td>7441350</td>\n",
       "    </tr>\n",
       "    <tr>\n",
       "      <th>Northeast</th>\n",
       "      <td>108225</td>\n",
       "      <td>5614511</td>\n",
       "    </tr>\n",
       "    <tr>\n",
       "      <th>South</th>\n",
       "      <td>209691</td>\n",
       "      <td>10582194</td>\n",
       "    </tr>\n",
       "    <tr>\n",
       "      <th>West</th>\n",
       "      <td>160354</td>\n",
       "      <td>8132559</td>\n",
       "    </tr>\n",
       "  </tbody>\n",
       "</table>\n",
       "</div>"
      ],
      "text/plain": [
       "average_order_flag  High spender  Low spender\n",
       "region                                       \n",
       "Midwest                   155975      7441350\n",
       "Northeast                 108225      5614511\n",
       "South                     209691     10582194\n",
       "West                      160354      8132559"
      ]
     },
     "execution_count": 27,
     "metadata": {},
     "output_type": "execute_result"
    }
   ],
   "source": [
    "crosstab_spending"
   ]
  },
  {
   "cell_type": "markdown",
   "id": "a38f41e7",
   "metadata": {},
   "source": [
    "# 4. Create an exclusion flag for low-activity customers and exclude them from the data set."
   ]
  },
  {
   "cell_type": "code",
   "execution_count": 28,
   "id": "3c1a68d1",
   "metadata": {},
   "outputs": [],
   "source": [
    "# Create an exclusion flag for low-activity customers \n",
    "df_final.loc[df_final['max_order'] < 5, 'exclusion_flag'] = 'low-activity'"
   ]
  },
  {
   "cell_type": "code",
   "execution_count": 29,
   "id": "e2af1044",
   "metadata": {},
   "outputs": [],
   "source": [
    "df_final.loc[df_final['max_order'] >= 5, 'exclusion_flag'] = 'high-activity'"
   ]
  },
  {
   "cell_type": "code",
   "execution_count": 30,
   "id": "5ea9f598",
   "metadata": {},
   "outputs": [
    {
     "data": {
      "text/plain": [
       "high-activity    30964564\n",
       "low-activity      1440295\n",
       "Name: exclusion_flag, dtype: int64"
      ]
     },
     "execution_count": 30,
     "metadata": {},
     "output_type": "execute_result"
    }
   ],
   "source": [
    "# Checking the results\n",
    "df_final['exclusion_flag'].value_counts(dropna = False)"
   ]
  },
  {
   "cell_type": "code",
   "execution_count": 31,
   "id": "92e46293",
   "metadata": {},
   "outputs": [
    {
     "data": {
      "text/html": [
       "<div>\n",
       "<style scoped>\n",
       "    .dataframe tbody tr th:only-of-type {\n",
       "        vertical-align: middle;\n",
       "    }\n",
       "\n",
       "    .dataframe tbody tr th {\n",
       "        vertical-align: top;\n",
       "    }\n",
       "\n",
       "    .dataframe thead th {\n",
       "        text-align: right;\n",
       "    }\n",
       "</style>\n",
       "<table border=\"1\" class=\"dataframe\">\n",
       "  <thead>\n",
       "    <tr style=\"text-align: right;\">\n",
       "      <th></th>\n",
       "      <th>order_id</th>\n",
       "      <th>user_id</th>\n",
       "      <th>order_number</th>\n",
       "      <th>orders_day_of_week</th>\n",
       "      <th>order_hour_of_day</th>\n",
       "      <th>days_since_prior_order</th>\n",
       "      <th>new_customer</th>\n",
       "      <th>product_id</th>\n",
       "      <th>add_to_cart_order</th>\n",
       "      <th>reordered</th>\n",
       "      <th>...</th>\n",
       "      <th>frequency_order_flag</th>\n",
       "      <th>gender</th>\n",
       "      <th>state</th>\n",
       "      <th>age</th>\n",
       "      <th>date_joined</th>\n",
       "      <th>n_dependants</th>\n",
       "      <th>marital_status</th>\n",
       "      <th>income</th>\n",
       "      <th>region</th>\n",
       "      <th>exclusion_flag</th>\n",
       "    </tr>\n",
       "  </thead>\n",
       "  <tbody>\n",
       "    <tr>\n",
       "      <th>0</th>\n",
       "      <td>2539329</td>\n",
       "      <td>1</td>\n",
       "      <td>1</td>\n",
       "      <td>2</td>\n",
       "      <td>8</td>\n",
       "      <td>-1.0</td>\n",
       "      <td>False</td>\n",
       "      <td>196</td>\n",
       "      <td>1</td>\n",
       "      <td>0</td>\n",
       "      <td>...</td>\n",
       "      <td>Regular customer</td>\n",
       "      <td>Female</td>\n",
       "      <td>Alabama</td>\n",
       "      <td>31</td>\n",
       "      <td>2/17/2019</td>\n",
       "      <td>3</td>\n",
       "      <td>married</td>\n",
       "      <td>40423</td>\n",
       "      <td>South</td>\n",
       "      <td>high-activity</td>\n",
       "    </tr>\n",
       "    <tr>\n",
       "      <th>1</th>\n",
       "      <td>2398795</td>\n",
       "      <td>1</td>\n",
       "      <td>2</td>\n",
       "      <td>3</td>\n",
       "      <td>7</td>\n",
       "      <td>15.0</td>\n",
       "      <td>False</td>\n",
       "      <td>196</td>\n",
       "      <td>1</td>\n",
       "      <td>1</td>\n",
       "      <td>...</td>\n",
       "      <td>Regular customer</td>\n",
       "      <td>Female</td>\n",
       "      <td>Alabama</td>\n",
       "      <td>31</td>\n",
       "      <td>2/17/2019</td>\n",
       "      <td>3</td>\n",
       "      <td>married</td>\n",
       "      <td>40423</td>\n",
       "      <td>South</td>\n",
       "      <td>high-activity</td>\n",
       "    </tr>\n",
       "    <tr>\n",
       "      <th>2</th>\n",
       "      <td>473747</td>\n",
       "      <td>1</td>\n",
       "      <td>3</td>\n",
       "      <td>3</td>\n",
       "      <td>12</td>\n",
       "      <td>21.0</td>\n",
       "      <td>False</td>\n",
       "      <td>196</td>\n",
       "      <td>1</td>\n",
       "      <td>1</td>\n",
       "      <td>...</td>\n",
       "      <td>Regular customer</td>\n",
       "      <td>Female</td>\n",
       "      <td>Alabama</td>\n",
       "      <td>31</td>\n",
       "      <td>2/17/2019</td>\n",
       "      <td>3</td>\n",
       "      <td>married</td>\n",
       "      <td>40423</td>\n",
       "      <td>South</td>\n",
       "      <td>high-activity</td>\n",
       "    </tr>\n",
       "    <tr>\n",
       "      <th>3</th>\n",
       "      <td>2254736</td>\n",
       "      <td>1</td>\n",
       "      <td>4</td>\n",
       "      <td>4</td>\n",
       "      <td>7</td>\n",
       "      <td>29.0</td>\n",
       "      <td>False</td>\n",
       "      <td>196</td>\n",
       "      <td>1</td>\n",
       "      <td>1</td>\n",
       "      <td>...</td>\n",
       "      <td>Regular customer</td>\n",
       "      <td>Female</td>\n",
       "      <td>Alabama</td>\n",
       "      <td>31</td>\n",
       "      <td>2/17/2019</td>\n",
       "      <td>3</td>\n",
       "      <td>married</td>\n",
       "      <td>40423</td>\n",
       "      <td>South</td>\n",
       "      <td>high-activity</td>\n",
       "    </tr>\n",
       "    <tr>\n",
       "      <th>4</th>\n",
       "      <td>431534</td>\n",
       "      <td>1</td>\n",
       "      <td>5</td>\n",
       "      <td>4</td>\n",
       "      <td>15</td>\n",
       "      <td>28.0</td>\n",
       "      <td>False</td>\n",
       "      <td>196</td>\n",
       "      <td>1</td>\n",
       "      <td>1</td>\n",
       "      <td>...</td>\n",
       "      <td>Regular customer</td>\n",
       "      <td>Female</td>\n",
       "      <td>Alabama</td>\n",
       "      <td>31</td>\n",
       "      <td>2/17/2019</td>\n",
       "      <td>3</td>\n",
       "      <td>married</td>\n",
       "      <td>40423</td>\n",
       "      <td>South</td>\n",
       "      <td>high-activity</td>\n",
       "    </tr>\n",
       "  </tbody>\n",
       "</table>\n",
       "<p>5 rows × 33 columns</p>\n",
       "</div>"
      ],
      "text/plain": [
       "   order_id  user_id  order_number  orders_day_of_week  order_hour_of_day  \\\n",
       "0   2539329        1             1                   2                  8   \n",
       "1   2398795        1             2                   3                  7   \n",
       "2    473747        1             3                   3                 12   \n",
       "3   2254736        1             4                   4                  7   \n",
       "4    431534        1             5                   4                 15   \n",
       "\n",
       "   days_since_prior_order  new_customer  product_id  add_to_cart_order  \\\n",
       "0                    -1.0         False         196                  1   \n",
       "1                    15.0         False         196                  1   \n",
       "2                    21.0         False         196                  1   \n",
       "3                    29.0         False         196                  1   \n",
       "4                    28.0         False         196                  1   \n",
       "\n",
       "   reordered  ... frequency_order_flag  gender    state  age date_joined  \\\n",
       "0          0  ...     Regular customer  Female  Alabama   31   2/17/2019   \n",
       "1          1  ...     Regular customer  Female  Alabama   31   2/17/2019   \n",
       "2          1  ...     Regular customer  Female  Alabama   31   2/17/2019   \n",
       "3          1  ...     Regular customer  Female  Alabama   31   2/17/2019   \n",
       "4          1  ...     Regular customer  Female  Alabama   31   2/17/2019   \n",
       "\n",
       "  n_dependants marital_status income  region exclusion_flag  \n",
       "0            3        married  40423   South  high-activity  \n",
       "1            3        married  40423   South  high-activity  \n",
       "2            3        married  40423   South  high-activity  \n",
       "3            3        married  40423   South  high-activity  \n",
       "4            3        married  40423   South  high-activity  \n",
       "\n",
       "[5 rows x 33 columns]"
      ]
     },
     "execution_count": 31,
     "metadata": {},
     "output_type": "execute_result"
    }
   ],
   "source": [
    "df_final.head(5)"
   ]
  },
  {
   "cell_type": "code",
   "execution_count": 32,
   "id": "e6c59600",
   "metadata": {},
   "outputs": [],
   "source": [
    "# Creating a new dataframe without the low-activity customers\n",
    "df_final2= df_final.loc[df_final['exclusion_flag'] == 'high-activity']"
   ]
  },
  {
   "cell_type": "code",
   "execution_count": 33,
   "id": "3a7c82a2",
   "metadata": {
    "scrolled": true
   },
   "outputs": [],
   "source": [
    "#exporting the new dataframe\n",
    "df_final2.to_pickle(os.path.join(path, '02 Data', 'Prepared Data', 'df_all.pkl'))"
   ]
  },
  {
   "cell_type": "markdown",
   "id": "e558ae85",
   "metadata": {},
   "source": [
    "# 5. Define a variable for profiling"
   ]
  },
  {
   "cell_type": "markdown",
   "id": "2671850b",
   "metadata": {},
   "source": [
    "5.1 Define a demographic segmentation;"
   ]
  },
  {
   "cell_type": "code",
   "execution_count": 34,
   "id": "7210c250",
   "metadata": {},
   "outputs": [],
   "source": [
    "# Importing the most recent dataframe\n",
    "df_all = pd.read_pickle(os.path.join(path,'02 Data', 'Prepared Data', 'df_all.pkl'))"
   ]
  },
  {
   "cell_type": "code",
   "execution_count": 35,
   "id": "284a0ee1",
   "metadata": {},
   "outputs": [
    {
     "data": {
      "text/plain": [
       "count    3.096456e+07\n",
       "mean     4.946803e+01\n",
       "std      1.848528e+01\n",
       "min      1.800000e+01\n",
       "25%      3.300000e+01\n",
       "50%      4.900000e+01\n",
       "75%      6.500000e+01\n",
       "max      8.100000e+01\n",
       "Name: age, dtype: float64"
      ]
     },
     "execution_count": 35,
     "metadata": {},
     "output_type": "execute_result"
    }
   ],
   "source": [
    "# Create a profiling variable based on age\n",
    "df_all['age'].describe()"
   ]
  },
  {
   "cell_type": "markdown",
   "id": "f392fd3e",
   "metadata": {},
   "source": [
    "According to our describe() function, the youngest Instacart clients are 18 and the oldest are 81.\n",
    "Age categories will be classified as follows:\n",
    "\n",
    "1) Young adults 18 - 25\n",
    "\n",
    "2) Adults 26 - 45\n",
    "\n",
    "3) Middle Aged 45 - 64\n",
    "\n",
    "4) Seniors 65+"
   ]
  },
  {
   "cell_type": "code",
   "execution_count": 36,
   "id": "7557c765",
   "metadata": {},
   "outputs": [],
   "source": [
    "# Create a new 'age' column\n",
    "df_all.loc[(df_all['age'] > 18) & (df_all['age'] <25), 'age_flag'] = 'Young adult'"
   ]
  },
  {
   "cell_type": "code",
   "execution_count": 37,
   "id": "0d546b99",
   "metadata": {},
   "outputs": [],
   "source": [
    "df_all.loc[(df_all['age'] >= 25) & (df_all['age'] <45), 'age_flag'] = 'Adult'"
   ]
  },
  {
   "cell_type": "code",
   "execution_count": 38,
   "id": "8b45d9ac",
   "metadata": {},
   "outputs": [],
   "source": [
    "df_all.loc[(df_all['age'] >= 45) & (df_all['age'] < 65), 'age_flag'] = 'Middle aged'"
   ]
  },
  {
   "cell_type": "code",
   "execution_count": 39,
   "id": "f0d62bde",
   "metadata": {},
   "outputs": [],
   "source": [
    "df_all.loc[df_all['age'] >= 65, 'age_flag'] = 'Senior'"
   ]
  },
  {
   "cell_type": "code",
   "execution_count": 40,
   "id": "bee4a825",
   "metadata": {},
   "outputs": [
    {
     "data": {
      "text/plain": [
       "Middle aged    9690051\n",
       "Adult          9663775\n",
       "Senior         8195544\n",
       "Young adult    2936737\n",
       "NaN             478457\n",
       "Name: age_flag, dtype: int64"
      ]
     },
     "execution_count": 40,
     "metadata": {},
     "output_type": "execute_result"
    }
   ],
   "source": [
    "# Check the results\n",
    "df_all['age_flag'].value_counts(dropna = False)"
   ]
  },
  {
   "cell_type": "code",
   "execution_count": 41,
   "id": "575774c1",
   "metadata": {},
   "outputs": [
    {
     "data": {
      "text/plain": [
       "count    3.096456e+07\n",
       "mean     9.967587e+04\n",
       "std      4.314187e+04\n",
       "min      2.590300e+04\n",
       "25%      6.729200e+04\n",
       "50%      9.676500e+04\n",
       "75%      1.281020e+05\n",
       "max      5.939010e+05\n",
       "Name: income, dtype: float64"
      ]
     },
     "execution_count": 41,
     "metadata": {},
     "output_type": "execute_result"
    }
   ],
   "source": [
    "# Create a profiling variable based on income\n",
    "df_all['income'].describe()"
   ]
  },
  {
   "cell_type": "markdown",
   "id": "a96b1ed4",
   "metadata": {},
   "source": [
    "According to our describe() function, the lowest income for Instacart clients is 25.9K $ while the highest is 593.9K. Salary categories will be classified as follows:\n",
    "\n",
    "1) Low income: < 65K\n",
    "\n",
    "2) Lower Middle income: between 65 - 100K \n",
    "\n",
    "3) Upper Middle income: between 100 - 150 k\n",
    "\n",
    "4) High income: 150k +"
   ]
  },
  {
   "cell_type": "code",
   "execution_count": 42,
   "id": "c17d7df0",
   "metadata": {},
   "outputs": [
    {
     "data": {
      "text/plain": [
       "Text(0.5, 1.0, 'IC customers income distribution')"
      ]
     },
     "execution_count": 42,
     "metadata": {},
     "output_type": "execute_result"
    },
    {
     "data": {
      "image/png": "[encoded data removed]",
      "text/plain": [
       "<Figure size 640x480 with 1 Axes>"
      ]
     },
     "metadata": {},
     "output_type": "display_data"
    }
   ],
   "source": [
    "# Create a income histogram \n",
    "hist_income =df_all['income'].plot.hist(bins = 25,rot = 45, color = 'gray')\n",
    "plt.xlabel(\"\")\n",
    "plt.ylabel(\"Frequency (in millions)\")\n",
    "plt.title(\"IC customers income distribution\", fontsize = '15')"
   ]
  },
  {
   "cell_type": "code",
   "execution_count": 43,
   "id": "400b3b9d",
   "metadata": {},
   "outputs": [],
   "source": [
    "# Export the histogram\n",
    "hist_income.figure.savefig(os.path.join(path, '04 Analysis','Visualizations', 'histogram_income.png'))"
   ]
  },
  {
   "cell_type": "code",
   "execution_count": 44,
   "id": "ec0aa983",
   "metadata": {},
   "outputs": [],
   "source": [
    "# Creating a new 'age' column\n",
    "df_all.loc[df_all['income'] < 65000, 'income_flag'] = 'Low income'"
   ]
  },
  {
   "cell_type": "code",
   "execution_count": 45,
   "id": "ef0a84a0",
   "metadata": {},
   "outputs": [],
   "source": [
    "df_all.loc[(df_all['income'] >= 65000) & (df_all['income'] < 100000), 'income_flag'] = 'Lower Middle income'"
   ]
  },
  {
   "cell_type": "code",
   "execution_count": 46,
   "id": "12a1fa2e",
   "metadata": {},
   "outputs": [],
   "source": [
    "df_all.loc[(df_all['income'] >= 100000) & (df_all['income'] < 150000), 'income_flag'] = 'Upper Middle income'"
   ]
  },
  {
   "cell_type": "code",
   "execution_count": 47,
   "id": "a43ebff2",
   "metadata": {},
   "outputs": [],
   "source": [
    "df_all.loc[df_all['income'] >= 150000, 'income_flag'] = 'High income'"
   ]
  },
  {
   "cell_type": "code",
   "execution_count": 48,
   "id": "d9d6fc50",
   "metadata": {},
   "outputs": [
    {
     "data": {
      "text/plain": [
       "Upper Middle income    10312127\n",
       "Lower Middle income     9649823\n",
       "Low income              7107339\n",
       "High income             3895275\n",
       "Name: income_flag, dtype: int64"
      ]
     },
     "execution_count": 48,
     "metadata": {},
     "output_type": "execute_result"
    }
   ],
   "source": [
    "# Checking the results\n",
    "df_all['income_flag'].value_counts(dropna = False)"
   ]
  },
  {
   "cell_type": "code",
   "execution_count": 49,
   "id": "e4eda5f1",
   "metadata": {},
   "outputs": [
    {
     "data": {
      "text/plain": [
       "count    3.096456e+07\n",
       "mean     1.501819e+00\n",
       "std      1.118896e+00\n",
       "min      0.000000e+00\n",
       "25%      1.000000e+00\n",
       "50%      2.000000e+00\n",
       "75%      3.000000e+00\n",
       "max      3.000000e+00\n",
       "Name: n_dependants, dtype: float64"
      ]
     },
     "execution_count": 49,
     "metadata": {},
     "output_type": "execute_result"
    }
   ],
   "source": [
    "# Create a profiling variable based on number of dependants\n",
    "df_all['n_dependants'].describe()"
   ]
  },
  {
   "cell_type": "markdown",
   "id": "46ac3d62",
   "metadata": {},
   "source": [
    "According to our describe() function, IC clients have between 0-3 kids.\n",
    "\n",
    "Families will be classified as follows:\n",
    "\n",
    "1) Single = 0 kids\n",
    "\n",
    "2) Small family = 1-2 kids\n",
    "\n",
    "3) Big family = 3+ kids"
   ]
  },
  {
   "cell_type": "code",
   "execution_count": 50,
   "id": "c7498065",
   "metadata": {},
   "outputs": [],
   "source": [
    "# Create the loop\n",
    "family_result = []"
   ]
  },
  {
   "cell_type": "code",
   "execution_count": 51,
   "id": "90997403",
   "metadata": {},
   "outputs": [],
   "source": [
    "for value in df_all[\"n_dependants\"]:\n",
    "  if (value >= 1 and value <= 2):\n",
    "    family_result.append(\"Small family\")\n",
    "  elif (value >= 3):\n",
    "    family_result.append(\"Big family\")\n",
    "  else:\n",
    "    family_result.append(\"No kids\")"
   ]
  },
  {
   "cell_type": "code",
   "execution_count": 52,
   "id": "707b2d9b",
   "metadata": {},
   "outputs": [],
   "source": [
    "# Create a new \"family\"column\n",
    "df_all['family_flag'] = family_result"
   ]
  },
  {
   "cell_type": "code",
   "execution_count": 53,
   "id": "bebcd017",
   "metadata": {},
   "outputs": [
    {
     "data": {
      "text/plain": [
       "Small family    15452367\n",
       "Big family       7772516\n",
       "No kids          7739681\n",
       "Name: family_flag, dtype: int64"
      ]
     },
     "execution_count": 53,
     "metadata": {},
     "output_type": "execute_result"
    }
   ],
   "source": [
    "# Checking the results\n",
    "df_all['family_flag'].value_counts(dropna = False)"
   ]
  },
  {
   "cell_type": "markdown",
   "id": "bcbf0e14",
   "metadata": {},
   "source": [
    "5b. Define a behavioural segmentation"
   ]
  },
  {
   "cell_type": "code",
   "execution_count": 54,
   "id": "d415fcbb",
   "metadata": {},
   "outputs": [
    {
     "data": {
      "text/html": [
       "<div>\n",
       "<style scoped>\n",
       "    .dataframe tbody tr th:only-of-type {\n",
       "        vertical-align: middle;\n",
       "    }\n",
       "\n",
       "    .dataframe tbody tr th {\n",
       "        vertical-align: top;\n",
       "    }\n",
       "\n",
       "    .dataframe thead th {\n",
       "        text-align: right;\n",
       "    }\n",
       "</style>\n",
       "<table border=\"1\" class=\"dataframe\">\n",
       "  <thead>\n",
       "    <tr style=\"text-align: right;\">\n",
       "      <th></th>\n",
       "      <th>Unnamed: 0</th>\n",
       "      <th>department</th>\n",
       "    </tr>\n",
       "  </thead>\n",
       "  <tbody>\n",
       "    <tr>\n",
       "      <th>0</th>\n",
       "      <td>1</td>\n",
       "      <td>frozen</td>\n",
       "    </tr>\n",
       "    <tr>\n",
       "      <th>1</th>\n",
       "      <td>2</td>\n",
       "      <td>other</td>\n",
       "    </tr>\n",
       "    <tr>\n",
       "      <th>2</th>\n",
       "      <td>3</td>\n",
       "      <td>bakery</td>\n",
       "    </tr>\n",
       "    <tr>\n",
       "      <th>3</th>\n",
       "      <td>4</td>\n",
       "      <td>produce</td>\n",
       "    </tr>\n",
       "    <tr>\n",
       "      <th>4</th>\n",
       "      <td>5</td>\n",
       "      <td>alcohol</td>\n",
       "    </tr>\n",
       "    <tr>\n",
       "      <th>5</th>\n",
       "      <td>6</td>\n",
       "      <td>international</td>\n",
       "    </tr>\n",
       "    <tr>\n",
       "      <th>6</th>\n",
       "      <td>7</td>\n",
       "      <td>beverages</td>\n",
       "    </tr>\n",
       "    <tr>\n",
       "      <th>7</th>\n",
       "      <td>8</td>\n",
       "      <td>pets</td>\n",
       "    </tr>\n",
       "    <tr>\n",
       "      <th>8</th>\n",
       "      <td>9</td>\n",
       "      <td>dry goods pasta</td>\n",
       "    </tr>\n",
       "    <tr>\n",
       "      <th>9</th>\n",
       "      <td>10</td>\n",
       "      <td>bulk</td>\n",
       "    </tr>\n",
       "    <tr>\n",
       "      <th>10</th>\n",
       "      <td>11</td>\n",
       "      <td>personal care</td>\n",
       "    </tr>\n",
       "    <tr>\n",
       "      <th>11</th>\n",
       "      <td>12</td>\n",
       "      <td>meat seafood</td>\n",
       "    </tr>\n",
       "    <tr>\n",
       "      <th>12</th>\n",
       "      <td>13</td>\n",
       "      <td>pantry</td>\n",
       "    </tr>\n",
       "    <tr>\n",
       "      <th>13</th>\n",
       "      <td>14</td>\n",
       "      <td>breakfast</td>\n",
       "    </tr>\n",
       "    <tr>\n",
       "      <th>14</th>\n",
       "      <td>15</td>\n",
       "      <td>canned goods</td>\n",
       "    </tr>\n",
       "    <tr>\n",
       "      <th>15</th>\n",
       "      <td>16</td>\n",
       "      <td>dairy eggs</td>\n",
       "    </tr>\n",
       "    <tr>\n",
       "      <th>16</th>\n",
       "      <td>17</td>\n",
       "      <td>household</td>\n",
       "    </tr>\n",
       "    <tr>\n",
       "      <th>17</th>\n",
       "      <td>18</td>\n",
       "      <td>babies</td>\n",
       "    </tr>\n",
       "    <tr>\n",
       "      <th>18</th>\n",
       "      <td>19</td>\n",
       "      <td>snacks</td>\n",
       "    </tr>\n",
       "    <tr>\n",
       "      <th>19</th>\n",
       "      <td>20</td>\n",
       "      <td>deli</td>\n",
       "    </tr>\n",
       "    <tr>\n",
       "      <th>20</th>\n",
       "      <td>21</td>\n",
       "      <td>missing</td>\n",
       "    </tr>\n",
       "  </tbody>\n",
       "</table>\n",
       "</div>"
      ],
      "text/plain": [
       "    Unnamed: 0       department\n",
       "0            1           frozen\n",
       "1            2            other\n",
       "2            3           bakery\n",
       "3            4          produce\n",
       "4            5          alcohol\n",
       "5            6    international\n",
       "6            7        beverages\n",
       "7            8             pets\n",
       "8            9  dry goods pasta\n",
       "9           10             bulk\n",
       "10          11    personal care\n",
       "11          12     meat seafood\n",
       "12          13           pantry\n",
       "13          14        breakfast\n",
       "14          15     canned goods\n",
       "15          16       dairy eggs\n",
       "16          17        household\n",
       "17          18           babies\n",
       "18          19           snacks\n",
       "19          20             deli\n",
       "20          21          missing"
      ]
     },
     "execution_count": 54,
     "metadata": {},
     "output_type": "execute_result"
    }
   ],
   "source": [
    "# Analyzing the df_depts dataframe to identify certain goods IC customers\n",
    "df_depts"
   ]
  },
  {
   "cell_type": "code",
   "execution_count": 55,
   "id": "c620638c",
   "metadata": {},
   "outputs": [],
   "source": [
    "# Dropping columns not useful for our analysis\n",
    "df_depts = df_depts.drop(columns = ['Unnamed: 0'])"
   ]
  },
  {
   "cell_type": "code",
   "execution_count": 56,
   "id": "f7c626d5",
   "metadata": {},
   "outputs": [
    {
     "data": {
      "text/plain": [
       "(21, 1)"
      ]
     },
     "execution_count": 56,
     "metadata": {},
     "output_type": "execute_result"
    }
   ],
   "source": [
    "# Check the results\n",
    "df_depts.shape"
   ]
  },
  {
   "cell_type": "code",
   "execution_count": 57,
   "id": "8e0f8d0a",
   "metadata": {},
   "outputs": [
    {
     "data": {
      "text/plain": [
       "0      208042\n",
       "1      109621\n",
       "2       65691\n",
       "3       48796\n",
       "4       50763\n",
       "5       84418\n",
       "6      281013\n",
       "7      863213\n",
       "8     1659110\n",
       "9     2363611\n",
       "10    2649744\n",
       "11    2614880\n",
       "12    2495795\n",
       "13    2539276\n",
       "14    2567903\n",
       "15    2535966\n",
       "16    2413681\n",
       "17    1982345\n",
       "18    1551184\n",
       "19    1193878\n",
       "20     930909\n",
       "21     763111\n",
       "22     607060\n",
       "23     384554\n",
       "Name: order_hour_of_day, dtype: int64"
      ]
     },
     "execution_count": 57,
     "metadata": {},
     "output_type": "execute_result"
    }
   ],
   "source": [
    "# Check \"order_hour_of_day column\"\n",
    "df_all['order_hour_of_day'].value_counts(dropna = False).sort_index()"
   ]
  },
  {
   "cell_type": "code",
   "execution_count": 58,
   "id": "4ae54a6e",
   "metadata": {},
   "outputs": [],
   "source": [
    "# Create a loop\n",
    "hourly_result = []"
   ]
  },
  {
   "cell_type": "code",
   "execution_count": 59,
   "id": "ba6c2bb5",
   "metadata": {},
   "outputs": [],
   "source": [
    "for value in df_all[\"order_hour_of_day\"]:\n",
    "  if (value >= 10 and value <= 21):\n",
    "    hourly_result.append(\"Regular customer\")\n",
    "  elif (value >= 6 and value <= 10):\n",
    "    hourly_result.append(\"Early bird\")\n",
    "  else:\n",
    "    hourly_result.append(\"Night owl\")"
   ]
  },
  {
   "cell_type": "code",
   "execution_count": 60,
   "id": "e364a895",
   "metadata": {},
   "outputs": [],
   "source": [
    "# Create a profiling variable based on when customers order\n",
    "df_all['order_time'] = hourly_result"
   ]
  },
  {
   "cell_type": "code",
   "execution_count": 61,
   "id": "73fc32ac",
   "metadata": {},
   "outputs": [],
   "source": [
    "# Create a profile for young adult with a low income\n",
    "df_all.loc[(df_all['age']<= 25) & (df_all['income'] <= 30000), 'profile'] = 'low-income young adult'"
   ]
  },
  {
   "cell_type": "code",
   "execution_count": 62,
   "id": "1332c50a",
   "metadata": {},
   "outputs": [],
   "source": [
    "# Create a profile for single adults with a good income\n",
    "df_all.loc[(df_all['family_flag'] == 'No kids') & (df_all['income'] >= 100000) , 'profile'] = 'wealthy single adult'"
   ]
  },
  {
   "cell_type": "code",
   "execution_count": 63,
   "id": "da44b432",
   "metadata": {},
   "outputs": [],
   "source": [
    "# Create a profile for married couples without kids\n",
    "df_all.loc[(df_all['family_flag'] == 'No kids') & (df_all['marital_status'] == 'married'), 'profile'] = 'family without kids'"
   ]
  },
  {
   "cell_type": "code",
   "execution_count": 64,
   "id": "f9210fa4",
   "metadata": {},
   "outputs": [],
   "source": [
    "# Create a profile for low income families\n",
    "df_all.loc[(df_all['n_dependants'] >= 1) & (df_all['income'] < 65000), 'profile'] = 'low-income family'"
   ]
  },
  {
   "cell_type": "code",
   "execution_count": 65,
   "id": "5d54ecc4",
   "metadata": {},
   "outputs": [],
   "source": [
    "# Create a profile for lower middle income families\n",
    "df_all.loc[(df_all['n_dependants'] >= 1) & (df_all['income'] >= 65000) & (df_all['income'] < 100000), 'profile'] = 'lower-middle-income family'"
   ]
  },
  {
   "cell_type": "code",
   "execution_count": 66,
   "id": "e23f944e",
   "metadata": {},
   "outputs": [],
   "source": [
    "# Create a profile for upper middle income families\n",
    "df_all.loc[(df_all['n_dependants'] >= 1) & (df_all['income'] >= 100000) & (df_all['income'] < 150000), 'profile'] = 'upper-middle-income family'"
   ]
  },
  {
   "cell_type": "code",
   "execution_count": 67,
   "id": "96dedca2",
   "metadata": {},
   "outputs": [],
   "source": [
    "# Create a profile for wealthy families\n",
    "df_all.loc[(df_all['n_dependants'] >= 1) & (df_all['income'] >= 150000), 'profile'] = 'wealthy family'"
   ]
  },
  {
   "cell_type": "code",
   "execution_count": 68,
   "id": "4920068d",
   "metadata": {},
   "outputs": [],
   "source": [
    "# Create a profile for low-income retired\n",
    "df_all.loc[(df_all['income'] <65000) & (df_all['age'] > 65),'profile'] ='low-income retired'"
   ]
  },
  {
   "cell_type": "code",
   "execution_count": 69,
   "id": "49ed4f82",
   "metadata": {},
   "outputs": [],
   "source": [
    "# Creating a profile for wealthy retired\n",
    "df_all.loc[(df_all['income'] >=65000) & (df_all['age'] > 65),'profile'] ='wealthy retired'"
   ]
  },
  {
   "cell_type": "code",
   "execution_count": 70,
   "id": "d05f419a",
   "metadata": {},
   "outputs": [],
   "source": [
    "# Create a profile for alcohol drinkers\n",
    "df_all.loc[df_all['department_id'] ==5, 'profile'] = 'alcohol consumer'"
   ]
  },
  {
   "cell_type": "code",
   "execution_count": 71,
   "id": "5e6a6ea3",
   "metadata": {},
   "outputs": [],
   "source": [
    "# Create a profile for meat and seafood eaters (non vegetarian)\n",
    "df_all.loc[df_all['department_id'] ==12, 'profile'] = 'non-vegetarian'"
   ]
  },
  {
   "cell_type": "code",
   "execution_count": 72,
   "id": "ca7453cc",
   "metadata": {},
   "outputs": [],
   "source": [
    "# Create a profile for pet owners\n",
    "df_all.loc[df_all['department_id'] ==8, 'profile'] = 'pet owner'"
   ]
  },
  {
   "cell_type": "code",
   "execution_count": 73,
   "id": "32f42894",
   "metadata": {},
   "outputs": [],
   "source": [
    "# Fill NaN as \"other profiles\"\n",
    "df_all['profile'] = df_all['profile'].fillna('other_profiles')"
   ]
  },
  {
   "cell_type": "code",
   "execution_count": 74,
   "id": "1d1b74c9",
   "metadata": {},
   "outputs": [
    {
     "data": {
      "text/plain": [
       "wealthy retired               6574693\n",
       "lower-middle-income family    6035605\n",
       "upper-middle-income family    4600328\n",
       "low-income family             4497596\n",
       "other_profiles                3488015\n",
       "wealthy single adult          2161139\n",
       "wealthy family                1752561\n",
       "low-income retired             926926\n",
       "non-vegetarian                 674781\n",
       "alcohol consumer               144627\n",
       "pet owner                       93060\n",
       "low-income young adult          15233\n",
       "Name: profile, dtype: int64"
      ]
     },
     "execution_count": 74,
     "metadata": {},
     "output_type": "execute_result"
    }
   ],
   "source": [
    "# Check the results\n",
    "df_all['profile'].value_counts(dropna = False)"
   ]
  },
  {
   "cell_type": "code",
   "execution_count": 75,
   "id": "c22e7115",
   "metadata": {},
   "outputs": [
    {
     "data": {
      "text/html": [
       "<div>\n",
       "<style scoped>\n",
       "    .dataframe tbody tr th:only-of-type {\n",
       "        vertical-align: middle;\n",
       "    }\n",
       "\n",
       "    .dataframe tbody tr th {\n",
       "        vertical-align: top;\n",
       "    }\n",
       "\n",
       "    .dataframe thead th {\n",
       "        text-align: right;\n",
       "    }\n",
       "</style>\n",
       "<table border=\"1\" class=\"dataframe\">\n",
       "  <thead>\n",
       "    <tr style=\"text-align: right;\">\n",
       "      <th></th>\n",
       "      <th>order_id</th>\n",
       "      <th>user_id</th>\n",
       "      <th>order_number</th>\n",
       "      <th>orders_day_of_week</th>\n",
       "      <th>order_hour_of_day</th>\n",
       "      <th>days_since_prior_order</th>\n",
       "      <th>new_customer</th>\n",
       "      <th>product_id</th>\n",
       "      <th>add_to_cart_order</th>\n",
       "      <th>reordered</th>\n",
       "      <th>...</th>\n",
       "      <th>n_dependants</th>\n",
       "      <th>marital_status</th>\n",
       "      <th>income</th>\n",
       "      <th>region</th>\n",
       "      <th>exclusion_flag</th>\n",
       "      <th>age_flag</th>\n",
       "      <th>income_flag</th>\n",
       "      <th>family_flag</th>\n",
       "      <th>order_time</th>\n",
       "      <th>profile</th>\n",
       "    </tr>\n",
       "  </thead>\n",
       "  <tbody>\n",
       "    <tr>\n",
       "      <th>0</th>\n",
       "      <td>2539329</td>\n",
       "      <td>1</td>\n",
       "      <td>1</td>\n",
       "      <td>2</td>\n",
       "      <td>8</td>\n",
       "      <td>-1.0</td>\n",
       "      <td>False</td>\n",
       "      <td>196</td>\n",
       "      <td>1</td>\n",
       "      <td>0</td>\n",
       "      <td>...</td>\n",
       "      <td>3</td>\n",
       "      <td>married</td>\n",
       "      <td>40423</td>\n",
       "      <td>South</td>\n",
       "      <td>high-activity</td>\n",
       "      <td>Adult</td>\n",
       "      <td>Low income</td>\n",
       "      <td>Big family</td>\n",
       "      <td>Early bird</td>\n",
       "      <td>low-income family</td>\n",
       "    </tr>\n",
       "    <tr>\n",
       "      <th>1</th>\n",
       "      <td>2398795</td>\n",
       "      <td>1</td>\n",
       "      <td>2</td>\n",
       "      <td>3</td>\n",
       "      <td>7</td>\n",
       "      <td>15.0</td>\n",
       "      <td>False</td>\n",
       "      <td>196</td>\n",
       "      <td>1</td>\n",
       "      <td>1</td>\n",
       "      <td>...</td>\n",
       "      <td>3</td>\n",
       "      <td>married</td>\n",
       "      <td>40423</td>\n",
       "      <td>South</td>\n",
       "      <td>high-activity</td>\n",
       "      <td>Adult</td>\n",
       "      <td>Low income</td>\n",
       "      <td>Big family</td>\n",
       "      <td>Early bird</td>\n",
       "      <td>low-income family</td>\n",
       "    </tr>\n",
       "    <tr>\n",
       "      <th>2</th>\n",
       "      <td>473747</td>\n",
       "      <td>1</td>\n",
       "      <td>3</td>\n",
       "      <td>3</td>\n",
       "      <td>12</td>\n",
       "      <td>21.0</td>\n",
       "      <td>False</td>\n",
       "      <td>196</td>\n",
       "      <td>1</td>\n",
       "      <td>1</td>\n",
       "      <td>...</td>\n",
       "      <td>3</td>\n",
       "      <td>married</td>\n",
       "      <td>40423</td>\n",
       "      <td>South</td>\n",
       "      <td>high-activity</td>\n",
       "      <td>Adult</td>\n",
       "      <td>Low income</td>\n",
       "      <td>Big family</td>\n",
       "      <td>Regular customer</td>\n",
       "      <td>low-income family</td>\n",
       "    </tr>\n",
       "    <tr>\n",
       "      <th>3</th>\n",
       "      <td>2254736</td>\n",
       "      <td>1</td>\n",
       "      <td>4</td>\n",
       "      <td>4</td>\n",
       "      <td>7</td>\n",
       "      <td>29.0</td>\n",
       "      <td>False</td>\n",
       "      <td>196</td>\n",
       "      <td>1</td>\n",
       "      <td>1</td>\n",
       "      <td>...</td>\n",
       "      <td>3</td>\n",
       "      <td>married</td>\n",
       "      <td>40423</td>\n",
       "      <td>South</td>\n",
       "      <td>high-activity</td>\n",
       "      <td>Adult</td>\n",
       "      <td>Low income</td>\n",
       "      <td>Big family</td>\n",
       "      <td>Early bird</td>\n",
       "      <td>low-income family</td>\n",
       "    </tr>\n",
       "    <tr>\n",
       "      <th>4</th>\n",
       "      <td>431534</td>\n",
       "      <td>1</td>\n",
       "      <td>5</td>\n",
       "      <td>4</td>\n",
       "      <td>15</td>\n",
       "      <td>28.0</td>\n",
       "      <td>False</td>\n",
       "      <td>196</td>\n",
       "      <td>1</td>\n",
       "      <td>1</td>\n",
       "      <td>...</td>\n",
       "      <td>3</td>\n",
       "      <td>married</td>\n",
       "      <td>40423</td>\n",
       "      <td>South</td>\n",
       "      <td>high-activity</td>\n",
       "      <td>Adult</td>\n",
       "      <td>Low income</td>\n",
       "      <td>Big family</td>\n",
       "      <td>Regular customer</td>\n",
       "      <td>low-income family</td>\n",
       "    </tr>\n",
       "  </tbody>\n",
       "</table>\n",
       "<p>5 rows × 38 columns</p>\n",
       "</div>"
      ],
      "text/plain": [
       "   order_id  user_id  order_number  orders_day_of_week  order_hour_of_day  \\\n",
       "0   2539329        1             1                   2                  8   \n",
       "1   2398795        1             2                   3                  7   \n",
       "2    473747        1             3                   3                 12   \n",
       "3   2254736        1             4                   4                  7   \n",
       "4    431534        1             5                   4                 15   \n",
       "\n",
       "   days_since_prior_order  new_customer  product_id  add_to_cart_order  \\\n",
       "0                    -1.0         False         196                  1   \n",
       "1                    15.0         False         196                  1   \n",
       "2                    21.0         False         196                  1   \n",
       "3                    29.0         False         196                  1   \n",
       "4                    28.0         False         196                  1   \n",
       "\n",
       "   reordered  ... n_dependants  marital_status  income  region exclusion_flag  \\\n",
       "0          0  ...            3         married   40423   South  high-activity   \n",
       "1          1  ...            3         married   40423   South  high-activity   \n",
       "2          1  ...            3         married   40423   South  high-activity   \n",
       "3          1  ...            3         married   40423   South  high-activity   \n",
       "4          1  ...            3         married   40423   South  high-activity   \n",
       "\n",
       "  age_flag income_flag family_flag        order_time            profile  \n",
       "0    Adult  Low income  Big family        Early bird  low-income family  \n",
       "1    Adult  Low income  Big family        Early bird  low-income family  \n",
       "2    Adult  Low income  Big family  Regular customer  low-income family  \n",
       "3    Adult  Low income  Big family        Early bird  low-income family  \n",
       "4    Adult  Low income  Big family  Regular customer  low-income family  \n",
       "\n",
       "[5 rows x 38 columns]"
      ]
     },
     "execution_count": 75,
     "metadata": {},
     "output_type": "execute_result"
    }
   ],
   "source": [
    "# Confirme the added column\n",
    "df_all.head(5)"
   ]
  },
  {
   "cell_type": "markdown",
   "id": "6847586a",
   "metadata": {},
   "source": [
    "# 6. Create visualizations to show the distribution of profiles"
   ]
  },
  {
   "cell_type": "code",
   "execution_count": 76,
   "id": "bc4574df",
   "metadata": {},
   "outputs": [
    {
     "data": {
      "text/plain": [
       "Text(0.5, 1.0, 'IC customers profiles')"
      ]
     },
     "execution_count": 76,
     "metadata": {},
     "output_type": "execute_result"
    },
    {
     "data": {
      "image/png": "[encoded data removed]",
      "text/plain": [
       "<Figure size 1000x500 with 1 Axes>"
      ]
     },
     "metadata": {},
     "output_type": "display_data"
    }
   ],
   "source": [
    "# Create a barchart with the profiles\n",
    "barchart_profiles = df_all['profile'].value_counts().plot.bar(rot=40, figsize = (10,5))\n",
    "plt.xlabel(\"\")\n",
    "plt.ylabel(\"Frequency (in millions)\")\n",
    "plt.title(\"IC customers profiles\", fontsize = '15')"
   ]
  },
  {
   "cell_type": "code",
   "execution_count": 77,
   "id": "b2426ede",
   "metadata": {
    "scrolled": false
   },
   "outputs": [
    {
     "data": {
      "text/plain": [
       "Text(0.5, 1.0, 'IC customers order time')"
      ]
     },
     "execution_count": 77,
     "metadata": {},
     "output_type": "execute_result"
    },
    {
     "data": {
      "image/png": "[encoded data removed]",
      "text/plain": [
       "<Figure size 640x480 with 1 Axes>"
      ]
     },
     "metadata": {},
     "output_type": "display_data"
    }
   ],
   "source": [
    "# Create a pie chart of 'order_time' column\n",
    "time_habit_pie = df_all['order_time'].value_counts().plot.pie(labels = ['Regular customer','Early bird','Night owl'], autopct=('%1.f%%'), colormap='tab20c',label='')\n",
    "plt.title( \"IC customers order time\", fontsize= '15')"
   ]
  },
  {
   "cell_type": "code",
   "execution_count": 78,
   "id": "71a599b4",
   "metadata": {
    "scrolled": false
   },
   "outputs": [
    {
     "data": {
      "text/plain": [
       "Text(0.5, 1.0, 'IC customers family composition')"
      ]
     },
     "execution_count": 78,
     "metadata": {},
     "output_type": "execute_result"
    },
    {
     "data": {
      "image/png": "[encoded data removed]",
      "text/plain": [
       "<Figure size 1000x500 with 1 Axes>"
      ]
     },
     "metadata": {},
     "output_type": "display_data"
    }
   ],
   "source": [
    "# Create a bar chart that shows IC customers family composition\n",
    "barchart_family = df_all['family_flag'].value_counts().plot.bar(rot=40, figsize = (10,5))\n",
    "plt.xlabel(\"\")\n",
    "plt.ylabel(\"Frequency (in millions)\")\n",
    "plt.title(\"IC customers family composition\", fontsize = '15')"
   ]
  },
  {
   "cell_type": "code",
   "execution_count": 81,
   "id": "1996bb72",
   "metadata": {},
   "outputs": [
    {
     "data": {
      "text/plain": [
       "Text(0.5, 1.0, 'IC customers order time habits')"
      ]
     },
     "execution_count": 81,
     "metadata": {},
     "output_type": "execute_result"
    },
    {
     "data": {
      "image/png": "[encoded data removed]",
      "text/plain": [
       "<Figure size 1000x500 with 1 Axes>"
      ]
     },
     "metadata": {},
     "output_type": "display_data"
    }
   ],
   "source": [
    "# Create a bar chart to show the result\n",
    "order_per_day_chart = df_all['orders_day_of_week'].value_counts().plot.bar(rot=40, figsize = (10,5))\n",
    "plt.xlabel(\"\")\n",
    "plt.ylabel(\"Frequency (in millions)\")\n",
    "plt.title(\"IC customers order time habits\", fontsize = '15')"
   ]
  },
  {
   "cell_type": "code",
   "execution_count": 82,
   "id": "79cb0db6",
   "metadata": {},
   "outputs": [],
   "source": [
    "# Save the visualizations\n",
    "barchart_profiles.figure.savefig(os.path.join(path, '04 Analysis','Visualizations', 'all_profiles.png'))"
   ]
  },
  {
   "cell_type": "code",
   "execution_count": 83,
   "id": "e5ef260f",
   "metadata": {},
   "outputs": [],
   "source": [
    "time_habit_pie.figure.savefig(os.path.join(path, '04 Analysis','Visualizations', 'order_time.png'))"
   ]
  },
  {
   "cell_type": "code",
   "execution_count": 84,
   "id": "f06d5d81",
   "metadata": {},
   "outputs": [],
   "source": [
    "barchart_family.figure.savefig(os.path.join(path, '04 Analysis','Visualizations', 'all_profiles.png'))"
   ]
  },
  {
   "cell_type": "code",
   "execution_count": 85,
   "id": "48cd03a0",
   "metadata": {},
   "outputs": [],
   "source": [
    "order_per_day_chart.figure.savefig(os.path.join(path, '04 Analysis','Visualizations', 'order_day_of_week.png'))"
   ]
  },
  {
   "cell_type": "markdown",
   "id": "d0485eb6",
   "metadata": {},
   "source": [
    "# 7. Create a customer profile aggregation for usage frequency and expenditure."
   ]
  },
  {
   "cell_type": "code",
   "execution_count": 84,
   "id": "f33685f4",
   "metadata": {},
   "outputs": [
    {
     "data": {
      "text/html": [
       "<div>\n",
       "<style scoped>\n",
       "    .dataframe tbody tr th:only-of-type {\n",
       "        vertical-align: middle;\n",
       "    }\n",
       "\n",
       "    .dataframe tbody tr th {\n",
       "        vertical-align: top;\n",
       "    }\n",
       "\n",
       "    .dataframe thead tr th {\n",
       "        text-align: left;\n",
       "    }\n",
       "\n",
       "    .dataframe thead tr:last-of-type th {\n",
       "        text-align: right;\n",
       "    }\n",
       "</style>\n",
       "<table border=\"1\" class=\"dataframe\">\n",
       "  <thead>\n",
       "    <tr>\n",
       "      <th></th>\n",
       "      <th colspan=\"3\" halign=\"left\">prices</th>\n",
       "      <th colspan=\"3\" halign=\"left\">days_since_prior_order</th>\n",
       "    </tr>\n",
       "    <tr>\n",
       "      <th></th>\n",
       "      <th>max</th>\n",
       "      <th>min</th>\n",
       "      <th>mean</th>\n",
       "      <th>mean</th>\n",
       "      <th>min</th>\n",
       "      <th>max</th>\n",
       "    </tr>\n",
       "    <tr>\n",
       "      <th>profile</th>\n",
       "      <th></th>\n",
       "      <th></th>\n",
       "      <th></th>\n",
       "      <th></th>\n",
       "      <th></th>\n",
       "      <th></th>\n",
       "    </tr>\n",
       "  </thead>\n",
       "  <tbody>\n",
       "    <tr>\n",
       "      <th>alcohol consumer</th>\n",
       "      <td>15.0</td>\n",
       "      <td>1.0</td>\n",
       "      <td>8.150699</td>\n",
       "      <td>9.265625</td>\n",
       "      <td>-1.0</td>\n",
       "      <td>30.0</td>\n",
       "    </tr>\n",
       "    <tr>\n",
       "      <th>low-income family</th>\n",
       "      <td>14900.0</td>\n",
       "      <td>1.0</td>\n",
       "      <td>7.192355</td>\n",
       "      <td>10.304688</td>\n",
       "      <td>-1.0</td>\n",
       "      <td>30.0</td>\n",
       "    </tr>\n",
       "    <tr>\n",
       "      <th>low-income retired</th>\n",
       "      <td>20.0</td>\n",
       "      <td>1.0</td>\n",
       "      <td>6.547977</td>\n",
       "      <td>10.421875</td>\n",
       "      <td>-1.0</td>\n",
       "      <td>30.0</td>\n",
       "    </tr>\n",
       "    <tr>\n",
       "      <th>low-income young adult</th>\n",
       "      <td>15.0</td>\n",
       "      <td>1.0</td>\n",
       "      <td>6.434320</td>\n",
       "      <td>10.640625</td>\n",
       "      <td>-1.0</td>\n",
       "      <td>30.0</td>\n",
       "    </tr>\n",
       "    <tr>\n",
       "      <th>lower-middle-income family</th>\n",
       "      <td>99999.0</td>\n",
       "      <td>1.0</td>\n",
       "      <td>8.585118</td>\n",
       "      <td>10.093750</td>\n",
       "      <td>-1.0</td>\n",
       "      <td>30.0</td>\n",
       "    </tr>\n",
       "    <tr>\n",
       "      <th>non-vegetarian</th>\n",
       "      <td>25.0</td>\n",
       "      <td>8.0</td>\n",
       "      <td>16.300034</td>\n",
       "      <td>10.453125</td>\n",
       "      <td>-1.0</td>\n",
       "      <td>30.0</td>\n",
       "    </tr>\n",
       "    <tr>\n",
       "      <th>other_profiles</th>\n",
       "      <td>99999.0</td>\n",
       "      <td>1.0</td>\n",
       "      <td>12.073483</td>\n",
       "      <td>10.156250</td>\n",
       "      <td>-1.0</td>\n",
       "      <td>30.0</td>\n",
       "    </tr>\n",
       "    <tr>\n",
       "      <th>pet owner</th>\n",
       "      <td>15.0</td>\n",
       "      <td>1.0</td>\n",
       "      <td>7.887489</td>\n",
       "      <td>10.882812</td>\n",
       "      <td>-1.0</td>\n",
       "      <td>30.0</td>\n",
       "    </tr>\n",
       "    <tr>\n",
       "      <th>upper-middle-income family</th>\n",
       "      <td>99999.0</td>\n",
       "      <td>1.0</td>\n",
       "      <td>10.501241</td>\n",
       "      <td>10.218750</td>\n",
       "      <td>-1.0</td>\n",
       "      <td>30.0</td>\n",
       "    </tr>\n",
       "    <tr>\n",
       "      <th>wealthy family</th>\n",
       "      <td>99999.0</td>\n",
       "      <td>1.0</td>\n",
       "      <td>38.596996</td>\n",
       "      <td>10.078125</td>\n",
       "      <td>-1.0</td>\n",
       "      <td>30.0</td>\n",
       "    </tr>\n",
       "    <tr>\n",
       "      <th>wealthy retired</th>\n",
       "      <td>99999.0</td>\n",
       "      <td>1.0</td>\n",
       "      <td>12.489497</td>\n",
       "      <td>10.125000</td>\n",
       "      <td>-1.0</td>\n",
       "      <td>30.0</td>\n",
       "    </tr>\n",
       "  </tbody>\n",
       "</table>\n",
       "</div>"
      ],
      "text/plain": [
       "                             prices                 days_since_prior_order  \\\n",
       "                                max  min       mean                   mean   \n",
       "profile                                                                      \n",
       "alcohol consumer               15.0  1.0   8.150699               9.265625   \n",
       "low-income family           14900.0  1.0   7.192355              10.304688   \n",
       "low-income retired             20.0  1.0   6.547977              10.421875   \n",
       "low-income young adult         15.0  1.0   6.434320              10.640625   \n",
       "lower-middle-income family  99999.0  1.0   8.585118              10.093750   \n",
       "non-vegetarian                 25.0  8.0  16.300034              10.453125   \n",
       "other_profiles              99999.0  1.0  12.073483              10.156250   \n",
       "pet owner                      15.0  1.0   7.887489              10.882812   \n",
       "upper-middle-income family  99999.0  1.0  10.501241              10.218750   \n",
       "wealthy family              99999.0  1.0  38.596996              10.078125   \n",
       "wealthy retired             99999.0  1.0  12.489497              10.125000   \n",
       "\n",
       "                                       \n",
       "                            min   max  \n",
       "profile                                \n",
       "alcohol consumer           -1.0  30.0  \n",
       "low-income family          -1.0  30.0  \n",
       "low-income retired         -1.0  30.0  \n",
       "low-income young adult     -1.0  30.0  \n",
       "lower-middle-income family -1.0  30.0  \n",
       "non-vegetarian             -1.0  30.0  \n",
       "other_profiles             -1.0  30.0  \n",
       "pet owner                  -1.0  30.0  \n",
       "upper-middle-income family -1.0  30.0  \n",
       "wealthy family             -1.0  30.0  \n",
       "wealthy retired            -1.0  30.0  "
      ]
     },
     "execution_count": 84,
     "metadata": {},
     "output_type": "execute_result"
    }
   ],
   "source": [
    "# Aggregate the max, mean, and min variables on a customer-profile level for usage frequency and expenditure.\n",
    "df_all.groupby('profile').agg({'prices': ['max','min','mean'], 'days_since_prior_order':['mean', 'min','max']})"
   ]
  },
  {
   "cell_type": "code",
   "execution_count": 85,
   "id": "59bc93af",
   "metadata": {},
   "outputs": [
    {
     "data": {
      "text/plain": [
       "count    3.096456e+07\n",
       "mean     1.042338e+01\n",
       "std      4.913244e+02\n",
       "min      1.000000e+00\n",
       "25%      4.200000e+00\n",
       "50%      7.400000e+00\n",
       "75%      1.130000e+01\n",
       "max      9.999900e+04\n",
       "Name: prices, dtype: float64"
      ]
     },
     "execution_count": 85,
     "metadata": {},
     "output_type": "execute_result"
    }
   ],
   "source": [
    "# Checking for outliers\n",
    "df_all['prices'].describe()"
   ]
  },
  {
   "cell_type": "code",
   "execution_count": 86,
   "id": "4c88c17c",
   "metadata": {},
   "outputs": [
    {
     "data": {
      "text/plain": [
       "99999.0"
      ]
     },
     "execution_count": 86,
     "metadata": {},
     "output_type": "execute_result"
    }
   ],
   "source": [
    "df_all['prices'].max()"
   ]
  },
  {
   "cell_type": "code",
   "execution_count": 87,
   "id": "a73d760f",
   "metadata": {},
   "outputs": [],
   "source": [
    "# Fixing the issue with the outliers\n",
    "df_all.loc[df_all['prices'] >100, 'prices'] = np.nan"
   ]
  },
  {
   "cell_type": "code",
   "execution_count": 88,
   "id": "34ee8a93",
   "metadata": {},
   "outputs": [
    {
     "data": {
      "text/plain": [
       "25.0"
      ]
     },
     "execution_count": 88,
     "metadata": {},
     "output_type": "execute_result"
    }
   ],
   "source": [
    "df_all['prices'].max()"
   ]
  },
  {
   "cell_type": "code",
   "execution_count": 89,
   "id": "f2765d9f",
   "metadata": {},
   "outputs": [
    {
     "data": {
      "text/html": [
       "<div>\n",
       "<style scoped>\n",
       "    .dataframe tbody tr th:only-of-type {\n",
       "        vertical-align: middle;\n",
       "    }\n",
       "\n",
       "    .dataframe tbody tr th {\n",
       "        vertical-align: top;\n",
       "    }\n",
       "\n",
       "    .dataframe thead tr th {\n",
       "        text-align: left;\n",
       "    }\n",
       "\n",
       "    .dataframe thead tr:last-of-type th {\n",
       "        text-align: right;\n",
       "    }\n",
       "</style>\n",
       "<table border=\"1\" class=\"dataframe\">\n",
       "  <thead>\n",
       "    <tr>\n",
       "      <th></th>\n",
       "      <th colspan=\"3\" halign=\"left\">prices</th>\n",
       "      <th colspan=\"3\" halign=\"left\">days_since_prior_order</th>\n",
       "    </tr>\n",
       "    <tr>\n",
       "      <th></th>\n",
       "      <th>max</th>\n",
       "      <th>min</th>\n",
       "      <th>mean</th>\n",
       "      <th>mean</th>\n",
       "      <th>min</th>\n",
       "      <th>max</th>\n",
       "    </tr>\n",
       "    <tr>\n",
       "      <th>profile</th>\n",
       "      <th></th>\n",
       "      <th></th>\n",
       "      <th></th>\n",
       "      <th></th>\n",
       "      <th></th>\n",
       "      <th></th>\n",
       "    </tr>\n",
       "  </thead>\n",
       "  <tbody>\n",
       "    <tr>\n",
       "      <th>alcohol consumer</th>\n",
       "      <td>15.0</td>\n",
       "      <td>1.0</td>\n",
       "      <td>8.150699</td>\n",
       "      <td>9.265625</td>\n",
       "      <td>-1.0</td>\n",
       "      <td>30.0</td>\n",
       "    </tr>\n",
       "    <tr>\n",
       "      <th>low-income family</th>\n",
       "      <td>20.0</td>\n",
       "      <td>1.0</td>\n",
       "      <td>7.182421</td>\n",
       "      <td>10.304688</td>\n",
       "      <td>-1.0</td>\n",
       "      <td>30.0</td>\n",
       "    </tr>\n",
       "    <tr>\n",
       "      <th>low-income retired</th>\n",
       "      <td>20.0</td>\n",
       "      <td>1.0</td>\n",
       "      <td>6.547977</td>\n",
       "      <td>10.421875</td>\n",
       "      <td>-1.0</td>\n",
       "      <td>30.0</td>\n",
       "    </tr>\n",
       "    <tr>\n",
       "      <th>low-income young adult</th>\n",
       "      <td>15.0</td>\n",
       "      <td>1.0</td>\n",
       "      <td>6.434320</td>\n",
       "      <td>10.640625</td>\n",
       "      <td>-1.0</td>\n",
       "      <td>30.0</td>\n",
       "    </tr>\n",
       "    <tr>\n",
       "      <th>lower-middle-income family</th>\n",
       "      <td>20.0</td>\n",
       "      <td>1.0</td>\n",
       "      <td>7.750077</td>\n",
       "      <td>10.093750</td>\n",
       "      <td>-1.0</td>\n",
       "      <td>30.0</td>\n",
       "    </tr>\n",
       "    <tr>\n",
       "      <th>non-vegetarian</th>\n",
       "      <td>25.0</td>\n",
       "      <td>8.0</td>\n",
       "      <td>16.300034</td>\n",
       "      <td>10.453125</td>\n",
       "      <td>-1.0</td>\n",
       "      <td>30.0</td>\n",
       "    </tr>\n",
       "    <tr>\n",
       "      <th>other_profiles</th>\n",
       "      <td>20.0</td>\n",
       "      <td>1.0</td>\n",
       "      <td>7.601340</td>\n",
       "      <td>10.156250</td>\n",
       "      <td>-1.0</td>\n",
       "      <td>30.0</td>\n",
       "    </tr>\n",
       "    <tr>\n",
       "      <th>pet owner</th>\n",
       "      <td>15.0</td>\n",
       "      <td>1.0</td>\n",
       "      <td>7.887489</td>\n",
       "      <td>10.882812</td>\n",
       "      <td>-1.0</td>\n",
       "      <td>30.0</td>\n",
       "    </tr>\n",
       "    <tr>\n",
       "      <th>upper-middle-income family</th>\n",
       "      <td>20.0</td>\n",
       "      <td>1.0</td>\n",
       "      <td>7.751454</td>\n",
       "      <td>10.218750</td>\n",
       "      <td>-1.0</td>\n",
       "      <td>30.0</td>\n",
       "    </tr>\n",
       "    <tr>\n",
       "      <th>wealthy family</th>\n",
       "      <td>20.0</td>\n",
       "      <td>1.0</td>\n",
       "      <td>7.726982</td>\n",
       "      <td>10.078125</td>\n",
       "      <td>-1.0</td>\n",
       "      <td>30.0</td>\n",
       "    </tr>\n",
       "    <tr>\n",
       "      <th>wealthy retired</th>\n",
       "      <td>20.0</td>\n",
       "      <td>1.0</td>\n",
       "      <td>7.746395</td>\n",
       "      <td>10.125000</td>\n",
       "      <td>-1.0</td>\n",
       "      <td>30.0</td>\n",
       "    </tr>\n",
       "  </tbody>\n",
       "</table>\n",
       "</div>"
      ],
      "text/plain": [
       "                           prices                 days_since_prior_order       \\\n",
       "                              max  min       mean                   mean  min   \n",
       "profile                                                                         \n",
       "alcohol consumer             15.0  1.0   8.150699               9.265625 -1.0   \n",
       "low-income family            20.0  1.0   7.182421              10.304688 -1.0   \n",
       "low-income retired           20.0  1.0   6.547977              10.421875 -1.0   \n",
       "low-income young adult       15.0  1.0   6.434320              10.640625 -1.0   \n",
       "lower-middle-income family   20.0  1.0   7.750077              10.093750 -1.0   \n",
       "non-vegetarian               25.0  8.0  16.300034              10.453125 -1.0   \n",
       "other_profiles               20.0  1.0   7.601340              10.156250 -1.0   \n",
       "pet owner                    15.0  1.0   7.887489              10.882812 -1.0   \n",
       "upper-middle-income family   20.0  1.0   7.751454              10.218750 -1.0   \n",
       "wealthy family               20.0  1.0   7.726982              10.078125 -1.0   \n",
       "wealthy retired              20.0  1.0   7.746395              10.125000 -1.0   \n",
       "\n",
       "                                  \n",
       "                             max  \n",
       "profile                           \n",
       "alcohol consumer            30.0  \n",
       "low-income family           30.0  \n",
       "low-income retired          30.0  \n",
       "low-income young adult      30.0  \n",
       "lower-middle-income family  30.0  \n",
       "non-vegetarian              30.0  \n",
       "other_profiles              30.0  \n",
       "pet owner                   30.0  \n",
       "upper-middle-income family  30.0  \n",
       "wealthy family              30.0  \n",
       "wealthy retired             30.0  "
      ]
     },
     "execution_count": 89,
     "metadata": {},
     "output_type": "execute_result"
    }
   ],
   "source": [
    "# Aggregate the max, mean, and min variables on a customer-profile level\n",
    "df_all.groupby('profile').agg({'prices': ['max','min','mean'], 'days_since_prior_order':['mean', 'min','max']})"
   ]
  },
  {
   "cell_type": "code",
   "execution_count": 90,
   "id": "80aedd63",
   "metadata": {},
   "outputs": [
    {
     "data": {
      "text/html": [
       "<div>\n",
       "<style scoped>\n",
       "    .dataframe tbody tr th:only-of-type {\n",
       "        vertical-align: middle;\n",
       "    }\n",
       "\n",
       "    .dataframe tbody tr th {\n",
       "        vertical-align: top;\n",
       "    }\n",
       "\n",
       "    .dataframe thead tr th {\n",
       "        text-align: left;\n",
       "    }\n",
       "\n",
       "    .dataframe thead tr:last-of-type th {\n",
       "        text-align: right;\n",
       "    }\n",
       "</style>\n",
       "<table border=\"1\" class=\"dataframe\">\n",
       "  <thead>\n",
       "    <tr>\n",
       "      <th></th>\n",
       "      <th colspan=\"3\" halign=\"left\">prices</th>\n",
       "    </tr>\n",
       "    <tr>\n",
       "      <th></th>\n",
       "      <th>mean</th>\n",
       "      <th>min</th>\n",
       "      <th>max</th>\n",
       "    </tr>\n",
       "    <tr>\n",
       "      <th>region</th>\n",
       "      <th></th>\n",
       "      <th></th>\n",
       "      <th></th>\n",
       "    </tr>\n",
       "  </thead>\n",
       "  <tbody>\n",
       "    <tr>\n",
       "      <th>Midwest</th>\n",
       "      <td>7.792318</td>\n",
       "      <td>1.0</td>\n",
       "      <td>25.0</td>\n",
       "    </tr>\n",
       "    <tr>\n",
       "      <th>Northeast</th>\n",
       "      <td>7.781441</td>\n",
       "      <td>1.0</td>\n",
       "      <td>25.0</td>\n",
       "    </tr>\n",
       "    <tr>\n",
       "      <th>South</th>\n",
       "      <td>7.794439</td>\n",
       "      <td>1.0</td>\n",
       "      <td>25.0</td>\n",
       "    </tr>\n",
       "    <tr>\n",
       "      <th>West</th>\n",
       "      <td>7.790308</td>\n",
       "      <td>1.0</td>\n",
       "      <td>25.0</td>\n",
       "    </tr>\n",
       "  </tbody>\n",
       "</table>\n",
       "</div>"
      ],
      "text/plain": [
       "             prices           \n",
       "               mean  min   max\n",
       "region                        \n",
       "Midwest    7.792318  1.0  25.0\n",
       "Northeast  7.781441  1.0  25.0\n",
       "South      7.794439  1.0  25.0\n",
       "West       7.790308  1.0  25.0"
      ]
     },
     "execution_count": 90,
     "metadata": {},
     "output_type": "execute_result"
    }
   ],
   "source": [
    "# Aggregate the max, mean, and min variables based on region\n",
    "df_all.groupby('region').agg({'prices' : ['mean', 'min', 'max']})"
   ]
  },
  {
   "cell_type": "code",
   "execution_count": 91,
   "id": "538018f9",
   "metadata": {},
   "outputs": [
    {
     "data": {
      "text/html": [
       "<div>\n",
       "<style scoped>\n",
       "    .dataframe tbody tr th:only-of-type {\n",
       "        vertical-align: middle;\n",
       "    }\n",
       "\n",
       "    .dataframe tbody tr th {\n",
       "        vertical-align: top;\n",
       "    }\n",
       "\n",
       "    .dataframe thead tr th {\n",
       "        text-align: left;\n",
       "    }\n",
       "\n",
       "    .dataframe thead tr:last-of-type th {\n",
       "        text-align: right;\n",
       "    }\n",
       "</style>\n",
       "<table border=\"1\" class=\"dataframe\">\n",
       "  <thead>\n",
       "    <tr>\n",
       "      <th></th>\n",
       "      <th colspan=\"3\" halign=\"left\">prices</th>\n",
       "    </tr>\n",
       "    <tr>\n",
       "      <th></th>\n",
       "      <th>mean</th>\n",
       "      <th>min</th>\n",
       "      <th>max</th>\n",
       "    </tr>\n",
       "    <tr>\n",
       "      <th>age_flag</th>\n",
       "      <th></th>\n",
       "      <th></th>\n",
       "      <th></th>\n",
       "    </tr>\n",
       "  </thead>\n",
       "  <tbody>\n",
       "    <tr>\n",
       "      <th>Adult</th>\n",
       "      <td>7.786899</td>\n",
       "      <td>1.0</td>\n",
       "      <td>25.0</td>\n",
       "    </tr>\n",
       "    <tr>\n",
       "      <th>Middle aged</th>\n",
       "      <td>7.789059</td>\n",
       "      <td>1.0</td>\n",
       "      <td>25.0</td>\n",
       "    </tr>\n",
       "    <tr>\n",
       "      <th>Senior</th>\n",
       "      <td>7.796715</td>\n",
       "      <td>1.0</td>\n",
       "      <td>25.0</td>\n",
       "    </tr>\n",
       "    <tr>\n",
       "      <th>Young adult</th>\n",
       "      <td>7.788299</td>\n",
       "      <td>1.0</td>\n",
       "      <td>25.0</td>\n",
       "    </tr>\n",
       "  </tbody>\n",
       "</table>\n",
       "</div>"
      ],
      "text/plain": [
       "               prices           \n",
       "                 mean  min   max\n",
       "age_flag                        \n",
       "Adult        7.786899  1.0  25.0\n",
       "Middle aged  7.789059  1.0  25.0\n",
       "Senior       7.796715  1.0  25.0\n",
       "Young adult  7.788299  1.0  25.0"
      ]
     },
     "execution_count": 91,
     "metadata": {},
     "output_type": "execute_result"
    }
   ],
   "source": [
    "# Aggregate the max, mean, and min variables based on age\n",
    "df_all.groupby('age_flag').agg({'prices' : ['mean', 'min', 'max']})"
   ]
  },
  {
   "cell_type": "code",
   "execution_count": 92,
   "id": "ec2bd9c7",
   "metadata": {},
   "outputs": [
    {
     "data": {
      "text/html": [
       "<div>\n",
       "<style scoped>\n",
       "    .dataframe tbody tr th:only-of-type {\n",
       "        vertical-align: middle;\n",
       "    }\n",
       "\n",
       "    .dataframe tbody tr th {\n",
       "        vertical-align: top;\n",
       "    }\n",
       "\n",
       "    .dataframe thead tr th {\n",
       "        text-align: left;\n",
       "    }\n",
       "\n",
       "    .dataframe thead tr:last-of-type th {\n",
       "        text-align: right;\n",
       "    }\n",
       "</style>\n",
       "<table border=\"1\" class=\"dataframe\">\n",
       "  <thead>\n",
       "    <tr>\n",
       "      <th></th>\n",
       "      <th colspan=\"3\" halign=\"left\">prices</th>\n",
       "    </tr>\n",
       "    <tr>\n",
       "      <th></th>\n",
       "      <th>mean</th>\n",
       "      <th>min</th>\n",
       "      <th>max</th>\n",
       "    </tr>\n",
       "    <tr>\n",
       "      <th>family_flag</th>\n",
       "      <th></th>\n",
       "      <th></th>\n",
       "      <th></th>\n",
       "    </tr>\n",
       "  </thead>\n",
       "  <tbody>\n",
       "    <tr>\n",
       "      <th>Big family</th>\n",
       "      <td>7.792886</td>\n",
       "      <td>1.0</td>\n",
       "      <td>25.0</td>\n",
       "    </tr>\n",
       "    <tr>\n",
       "      <th>No kids</th>\n",
       "      <td>7.789550</td>\n",
       "      <td>1.0</td>\n",
       "      <td>25.0</td>\n",
       "    </tr>\n",
       "    <tr>\n",
       "      <th>Small family</th>\n",
       "      <td>7.789957</td>\n",
       "      <td>1.0</td>\n",
       "      <td>25.0</td>\n",
       "    </tr>\n",
       "  </tbody>\n",
       "</table>\n",
       "</div>"
      ],
      "text/plain": [
       "                prices           \n",
       "                  mean  min   max\n",
       "family_flag                      \n",
       "Big family    7.792886  1.0  25.0\n",
       "No kids       7.789550  1.0  25.0\n",
       "Small family  7.789957  1.0  25.0"
      ]
     },
     "execution_count": 92,
     "metadata": {},
     "output_type": "execute_result"
    }
   ],
   "source": [
    "# Aggregate the max, mean, and min variables based on family composition\n",
    "df_all.groupby('family_flag').agg({'prices' : ['mean', 'min', 'max']})"
   ]
  },
  {
   "cell_type": "code",
   "execution_count": 93,
   "id": "d8b64855",
   "metadata": {},
   "outputs": [
    {
     "data": {
      "text/html": [
       "<div>\n",
       "<style scoped>\n",
       "    .dataframe tbody tr th:only-of-type {\n",
       "        vertical-align: middle;\n",
       "    }\n",
       "\n",
       "    .dataframe tbody tr th {\n",
       "        vertical-align: top;\n",
       "    }\n",
       "\n",
       "    .dataframe thead tr th {\n",
       "        text-align: left;\n",
       "    }\n",
       "\n",
       "    .dataframe thead tr:last-of-type th {\n",
       "        text-align: right;\n",
       "    }\n",
       "</style>\n",
       "<table border=\"1\" class=\"dataframe\">\n",
       "  <thead>\n",
       "    <tr>\n",
       "      <th></th>\n",
       "      <th colspan=\"3\" halign=\"left\">prices</th>\n",
       "    </tr>\n",
       "    <tr>\n",
       "      <th></th>\n",
       "      <th>mean</th>\n",
       "      <th>min</th>\n",
       "      <th>max</th>\n",
       "    </tr>\n",
       "    <tr>\n",
       "      <th>income_flag</th>\n",
       "      <th></th>\n",
       "      <th></th>\n",
       "      <th></th>\n",
       "    </tr>\n",
       "  </thead>\n",
       "  <tbody>\n",
       "    <tr>\n",
       "      <th>High income</th>\n",
       "      <td>7.940758</td>\n",
       "      <td>1.0</td>\n",
       "      <td>25.0</td>\n",
       "    </tr>\n",
       "    <tr>\n",
       "      <th>Low income</th>\n",
       "      <td>7.242912</td>\n",
       "      <td>1.0</td>\n",
       "      <td>25.0</td>\n",
       "    </tr>\n",
       "    <tr>\n",
       "      <th>Lower Middle income</th>\n",
       "      <td>7.954291</td>\n",
       "      <td>1.0</td>\n",
       "      <td>25.0</td>\n",
       "    </tr>\n",
       "    <tr>\n",
       "      <th>Upper Middle income</th>\n",
       "      <td>7.958223</td>\n",
       "      <td>1.0</td>\n",
       "      <td>25.0</td>\n",
       "    </tr>\n",
       "  </tbody>\n",
       "</table>\n",
       "</div>"
      ],
      "text/plain": [
       "                       prices           \n",
       "                         mean  min   max\n",
       "income_flag                             \n",
       "High income          7.940758  1.0  25.0\n",
       "Low income           7.242912  1.0  25.0\n",
       "Lower Middle income  7.954291  1.0  25.0\n",
       "Upper Middle income  7.958223  1.0  25.0"
      ]
     },
     "execution_count": 93,
     "metadata": {},
     "output_type": "execute_result"
    }
   ],
   "source": [
    "# Aggregate the max, mean, and min variables based on income\n",
    "df_all.groupby('income_flag').agg({'prices' : ['mean', 'min', 'max']})"
   ]
  },
  {
   "cell_type": "markdown",
   "id": "b4b6d5be",
   "metadata": {},
   "source": [
    "# 8.Compare the different profiles with regions and departments."
   ]
  },
  {
   "cell_type": "code",
   "execution_count": 94,
   "id": "32f4d3a9",
   "metadata": {},
   "outputs": [],
   "source": [
    "# Compare customer profiles and regions\n",
    "crosstab_profile = pd.crosstab(df_all['profile'], df_all['region'], dropna = False)"
   ]
  },
  {
   "cell_type": "code",
   "execution_count": 95,
   "id": "c6a97ce4",
   "metadata": {},
   "outputs": [
    {
     "data": {
      "text/html": [
       "<div>\n",
       "<style scoped>\n",
       "    .dataframe tbody tr th:only-of-type {\n",
       "        vertical-align: middle;\n",
       "    }\n",
       "\n",
       "    .dataframe tbody tr th {\n",
       "        vertical-align: top;\n",
       "    }\n",
       "\n",
       "    .dataframe thead th {\n",
       "        text-align: right;\n",
       "    }\n",
       "</style>\n",
       "<table border=\"1\" class=\"dataframe\">\n",
       "  <thead>\n",
       "    <tr style=\"text-align: right;\">\n",
       "      <th>region</th>\n",
       "      <th>Midwest</th>\n",
       "      <th>Northeast</th>\n",
       "      <th>South</th>\n",
       "      <th>West</th>\n",
       "    </tr>\n",
       "    <tr>\n",
       "      <th>profile</th>\n",
       "      <th></th>\n",
       "      <th></th>\n",
       "      <th></th>\n",
       "      <th></th>\n",
       "    </tr>\n",
       "  </thead>\n",
       "  <tbody>\n",
       "    <tr>\n",
       "      <th>alcohol consumer</th>\n",
       "      <td>34043</td>\n",
       "      <td>25017</td>\n",
       "      <td>48813</td>\n",
       "      <td>36754</td>\n",
       "    </tr>\n",
       "    <tr>\n",
       "      <th>low-income family</th>\n",
       "      <td>1057838</td>\n",
       "      <td>778440</td>\n",
       "      <td>1511445</td>\n",
       "      <td>1149873</td>\n",
       "    </tr>\n",
       "    <tr>\n",
       "      <th>low-income retired</th>\n",
       "      <td>208381</td>\n",
       "      <td>168065</td>\n",
       "      <td>307995</td>\n",
       "      <td>242485</td>\n",
       "    </tr>\n",
       "    <tr>\n",
       "      <th>low-income young adult</th>\n",
       "      <td>1854</td>\n",
       "      <td>2367</td>\n",
       "      <td>5548</td>\n",
       "      <td>5464</td>\n",
       "    </tr>\n",
       "    <tr>\n",
       "      <th>lower-middle-income family</th>\n",
       "      <td>1369374</td>\n",
       "      <td>1064634</td>\n",
       "      <td>2046066</td>\n",
       "      <td>1555531</td>\n",
       "    </tr>\n",
       "    <tr>\n",
       "      <th>non-vegetarian</th>\n",
       "      <td>158260</td>\n",
       "      <td>118571</td>\n",
       "      <td>224120</td>\n",
       "      <td>173830</td>\n",
       "    </tr>\n",
       "    <tr>\n",
       "      <th>other_profiles</th>\n",
       "      <td>1331215</td>\n",
       "      <td>964963</td>\n",
       "      <td>1908906</td>\n",
       "      <td>1444070</td>\n",
       "    </tr>\n",
       "    <tr>\n",
       "      <th>pet owner</th>\n",
       "      <td>21358</td>\n",
       "      <td>17734</td>\n",
       "      <td>29909</td>\n",
       "      <td>24059</td>\n",
       "    </tr>\n",
       "    <tr>\n",
       "      <th>upper-middle-income family</th>\n",
       "      <td>1120063</td>\n",
       "      <td>831709</td>\n",
       "      <td>1495698</td>\n",
       "      <td>1152858</td>\n",
       "    </tr>\n",
       "    <tr>\n",
       "      <th>wealthy family</th>\n",
       "      <td>420395</td>\n",
       "      <td>308282</td>\n",
       "      <td>568232</td>\n",
       "      <td>455652</td>\n",
       "    </tr>\n",
       "    <tr>\n",
       "      <th>wealthy retired</th>\n",
       "      <td>1538732</td>\n",
       "      <td>1184903</td>\n",
       "      <td>2164407</td>\n",
       "      <td>1686651</td>\n",
       "    </tr>\n",
       "  </tbody>\n",
       "</table>\n",
       "</div>"
      ],
      "text/plain": [
       "region                      Midwest  Northeast    South     West\n",
       "profile                                                         \n",
       "alcohol consumer              34043      25017    48813    36754\n",
       "low-income family           1057838     778440  1511445  1149873\n",
       "low-income retired           208381     168065   307995   242485\n",
       "low-income young adult         1854       2367     5548     5464\n",
       "lower-middle-income family  1369374    1064634  2046066  1555531\n",
       "non-vegetarian               158260     118571   224120   173830\n",
       "other_profiles              1331215     964963  1908906  1444070\n",
       "pet owner                     21358      17734    29909    24059\n",
       "upper-middle-income family  1120063     831709  1495698  1152858\n",
       "wealthy family               420395     308282   568232   455652\n",
       "wealthy retired             1538732    1184903  2164407  1686651"
      ]
     },
     "execution_count": 95,
     "metadata": {},
     "output_type": "execute_result"
    }
   ],
   "source": [
    "crosstab_profile"
   ]
  },
  {
   "cell_type": "code",
   "execution_count": 96,
   "id": "ef80769d",
   "metadata": {},
   "outputs": [],
   "source": [
    "# Compare customer profiles and departments\n",
    "crosstab_department = pd.crosstab(df_all['profile'], df_all['department_id'], dropna = False)"
   ]
  },
  {
   "cell_type": "code",
   "execution_count": 97,
   "id": "c80f96c4",
   "metadata": {},
   "outputs": [
    {
     "data": {
      "text/html": [
       "<div>\n",
       "<style scoped>\n",
       "    .dataframe tbody tr th:only-of-type {\n",
       "        vertical-align: middle;\n",
       "    }\n",
       "\n",
       "    .dataframe tbody tr th {\n",
       "        vertical-align: top;\n",
       "    }\n",
       "\n",
       "    .dataframe thead th {\n",
       "        text-align: right;\n",
       "    }\n",
       "</style>\n",
       "<table border=\"1\" class=\"dataframe\">\n",
       "  <thead>\n",
       "    <tr style=\"text-align: right;\">\n",
       "      <th>department_id</th>\n",
       "      <th>1</th>\n",
       "      <th>2</th>\n",
       "      <th>3</th>\n",
       "      <th>4</th>\n",
       "      <th>5</th>\n",
       "      <th>6</th>\n",
       "      <th>7</th>\n",
       "      <th>8</th>\n",
       "      <th>9</th>\n",
       "      <th>10</th>\n",
       "      <th>...</th>\n",
       "      <th>12</th>\n",
       "      <th>13</th>\n",
       "      <th>14</th>\n",
       "      <th>15</th>\n",
       "      <th>16</th>\n",
       "      <th>17</th>\n",
       "      <th>18</th>\n",
       "      <th>19</th>\n",
       "      <th>20</th>\n",
       "      <th>21</th>\n",
       "    </tr>\n",
       "    <tr>\n",
       "      <th>profile</th>\n",
       "      <th></th>\n",
       "      <th></th>\n",
       "      <th></th>\n",
       "      <th></th>\n",
       "      <th></th>\n",
       "      <th></th>\n",
       "      <th></th>\n",
       "      <th></th>\n",
       "      <th></th>\n",
       "      <th></th>\n",
       "      <th></th>\n",
       "      <th></th>\n",
       "      <th></th>\n",
       "      <th></th>\n",
       "      <th></th>\n",
       "      <th></th>\n",
       "      <th></th>\n",
       "      <th></th>\n",
       "      <th></th>\n",
       "      <th></th>\n",
       "      <th></th>\n",
       "    </tr>\n",
       "  </thead>\n",
       "  <tbody>\n",
       "    <tr>\n",
       "      <th>alcohol consumer</th>\n",
       "      <td>0</td>\n",
       "      <td>0</td>\n",
       "      <td>0</td>\n",
       "      <td>0</td>\n",
       "      <td>144627</td>\n",
       "      <td>0</td>\n",
       "      <td>0</td>\n",
       "      <td>0</td>\n",
       "      <td>0</td>\n",
       "      <td>0</td>\n",
       "      <td>...</td>\n",
       "      <td>0</td>\n",
       "      <td>0</td>\n",
       "      <td>0</td>\n",
       "      <td>0</td>\n",
       "      <td>0</td>\n",
       "      <td>0</td>\n",
       "      <td>0</td>\n",
       "      <td>0</td>\n",
       "      <td>0</td>\n",
       "      <td>0</td>\n",
       "    </tr>\n",
       "    <tr>\n",
       "      <th>low-income family</th>\n",
       "      <td>306488</td>\n",
       "      <td>4984</td>\n",
       "      <td>158912</td>\n",
       "      <td>1268687</td>\n",
       "      <td>0</td>\n",
       "      <td>34980</td>\n",
       "      <td>435818</td>\n",
       "      <td>0</td>\n",
       "      <td>108702</td>\n",
       "      <td>5680</td>\n",
       "      <td>...</td>\n",
       "      <td>0</td>\n",
       "      <td>250108</td>\n",
       "      <td>111056</td>\n",
       "      <td>133777</td>\n",
       "      <td>734242</td>\n",
       "      <td>108172</td>\n",
       "      <td>49917</td>\n",
       "      <td>565456</td>\n",
       "      <td>147627</td>\n",
       "      <td>9375</td>\n",
       "    </tr>\n",
       "    <tr>\n",
       "      <th>low-income retired</th>\n",
       "      <td>59712</td>\n",
       "      <td>1022</td>\n",
       "      <td>29074</td>\n",
       "      <td>235242</td>\n",
       "      <td>0</td>\n",
       "      <td>5660</td>\n",
       "      <td>109725</td>\n",
       "      <td>0</td>\n",
       "      <td>17254</td>\n",
       "      <td>1352</td>\n",
       "      <td>...</td>\n",
       "      <td>0</td>\n",
       "      <td>46053</td>\n",
       "      <td>26058</td>\n",
       "      <td>21718</td>\n",
       "      <td>140487</td>\n",
       "      <td>24971</td>\n",
       "      <td>7621</td>\n",
       "      <td>157054</td>\n",
       "      <td>28767</td>\n",
       "      <td>1819</td>\n",
       "    </tr>\n",
       "    <tr>\n",
       "      <th>low-income young adult</th>\n",
       "      <td>1011</td>\n",
       "      <td>21</td>\n",
       "      <td>455</td>\n",
       "      <td>4004</td>\n",
       "      <td>0</td>\n",
       "      <td>132</td>\n",
       "      <td>2021</td>\n",
       "      <td>0</td>\n",
       "      <td>280</td>\n",
       "      <td>9</td>\n",
       "      <td>...</td>\n",
       "      <td>0</td>\n",
       "      <td>807</td>\n",
       "      <td>330</td>\n",
       "      <td>346</td>\n",
       "      <td>2167</td>\n",
       "      <td>354</td>\n",
       "      <td>78</td>\n",
       "      <td>2403</td>\n",
       "      <td>542</td>\n",
       "      <td>30</td>\n",
       "    </tr>\n",
       "    <tr>\n",
       "      <th>lower-middle-income family</th>\n",
       "      <td>429412</td>\n",
       "      <td>7058</td>\n",
       "      <td>226026</td>\n",
       "      <td>1877235</td>\n",
       "      <td>0</td>\n",
       "      <td>53515</td>\n",
       "      <td>483280</td>\n",
       "      <td>0</td>\n",
       "      <td>172650</td>\n",
       "      <td>6912</td>\n",
       "      <td>...</td>\n",
       "      <td>0</td>\n",
       "      <td>363467</td>\n",
       "      <td>129895</td>\n",
       "      <td>210574</td>\n",
       "      <td>1064668</td>\n",
       "      <td>136579</td>\n",
       "      <td>88304</td>\n",
       "      <td>484266</td>\n",
       "      <td>202606</td>\n",
       "      <td>13497</td>\n",
       "    </tr>\n",
       "    <tr>\n",
       "      <th>non-vegetarian</th>\n",
       "      <td>0</td>\n",
       "      <td>0</td>\n",
       "      <td>0</td>\n",
       "      <td>0</td>\n",
       "      <td>0</td>\n",
       "      <td>0</td>\n",
       "      <td>0</td>\n",
       "      <td>0</td>\n",
       "      <td>0</td>\n",
       "      <td>0</td>\n",
       "      <td>...</td>\n",
       "      <td>674781</td>\n",
       "      <td>0</td>\n",
       "      <td>0</td>\n",
       "      <td>0</td>\n",
       "      <td>0</td>\n",
       "      <td>0</td>\n",
       "      <td>0</td>\n",
       "      <td>0</td>\n",
       "      <td>0</td>\n",
       "      <td>0</td>\n",
       "    </tr>\n",
       "    <tr>\n",
       "      <th>other_profiles</th>\n",
       "      <td>395206</td>\n",
       "      <td>6694</td>\n",
       "      <td>212811</td>\n",
       "      <td>1709158</td>\n",
       "      <td>0</td>\n",
       "      <td>48748</td>\n",
       "      <td>484619</td>\n",
       "      <td>0</td>\n",
       "      <td>153591</td>\n",
       "      <td>6048</td>\n",
       "      <td>...</td>\n",
       "      <td>0</td>\n",
       "      <td>333964</td>\n",
       "      <td>126671</td>\n",
       "      <td>190020</td>\n",
       "      <td>973292</td>\n",
       "      <td>128622</td>\n",
       "      <td>79027</td>\n",
       "      <td>518031</td>\n",
       "      <td>191013</td>\n",
       "      <td>12184</td>\n",
       "    </tr>\n",
       "    <tr>\n",
       "      <th>pet owner</th>\n",
       "      <td>0</td>\n",
       "      <td>0</td>\n",
       "      <td>0</td>\n",
       "      <td>0</td>\n",
       "      <td>0</td>\n",
       "      <td>0</td>\n",
       "      <td>0</td>\n",
       "      <td>93060</td>\n",
       "      <td>0</td>\n",
       "      <td>0</td>\n",
       "      <td>...</td>\n",
       "      <td>0</td>\n",
       "      <td>0</td>\n",
       "      <td>0</td>\n",
       "      <td>0</td>\n",
       "      <td>0</td>\n",
       "      <td>0</td>\n",
       "      <td>0</td>\n",
       "      <td>0</td>\n",
       "      <td>0</td>\n",
       "      <td>0</td>\n",
       "    </tr>\n",
       "    <tr>\n",
       "      <th>upper-middle-income family</th>\n",
       "      <td>327599</td>\n",
       "      <td>5156</td>\n",
       "      <td>174420</td>\n",
       "      <td>1425446</td>\n",
       "      <td>0</td>\n",
       "      <td>39850</td>\n",
       "      <td>373310</td>\n",
       "      <td>0</td>\n",
       "      <td>131538</td>\n",
       "      <td>4796</td>\n",
       "      <td>...</td>\n",
       "      <td>0</td>\n",
       "      <td>281861</td>\n",
       "      <td>98360</td>\n",
       "      <td>163174</td>\n",
       "      <td>804724</td>\n",
       "      <td>106431</td>\n",
       "      <td>69181</td>\n",
       "      <td>365755</td>\n",
       "      <td>153219</td>\n",
       "      <td>9972</td>\n",
       "    </tr>\n",
       "    <tr>\n",
       "      <th>wealthy family</th>\n",
       "      <td>129485</td>\n",
       "      <td>2148</td>\n",
       "      <td>69746</td>\n",
       "      <td>525658</td>\n",
       "      <td>0</td>\n",
       "      <td>15539</td>\n",
       "      <td>146439</td>\n",
       "      <td>0</td>\n",
       "      <td>49902</td>\n",
       "      <td>1670</td>\n",
       "      <td>...</td>\n",
       "      <td>0</td>\n",
       "      <td>107324</td>\n",
       "      <td>39047</td>\n",
       "      <td>62243</td>\n",
       "      <td>307050</td>\n",
       "      <td>43272</td>\n",
       "      <td>23723</td>\n",
       "      <td>142021</td>\n",
       "      <td>58364</td>\n",
       "      <td>3805</td>\n",
       "    </tr>\n",
       "    <tr>\n",
       "      <th>wealthy retired</th>\n",
       "      <td>472818</td>\n",
       "      <td>7328</td>\n",
       "      <td>249384</td>\n",
       "      <td>2033843</td>\n",
       "      <td>0</td>\n",
       "      <td>57567</td>\n",
       "      <td>536689</td>\n",
       "      <td>0</td>\n",
       "      <td>188219</td>\n",
       "      <td>6984</td>\n",
       "      <td>...</td>\n",
       "      <td>0</td>\n",
       "      <td>399121</td>\n",
       "      <td>139433</td>\n",
       "      <td>230222</td>\n",
       "      <td>1150552</td>\n",
       "      <td>151456</td>\n",
       "      <td>92541</td>\n",
       "      <td>531420</td>\n",
       "      <td>221696</td>\n",
       "      <td>14086</td>\n",
       "    </tr>\n",
       "  </tbody>\n",
       "</table>\n",
       "<p>11 rows × 21 columns</p>\n",
       "</div>"
      ],
      "text/plain": [
       "department_id                   1     2       3        4       5      6   \\\n",
       "profile                                                                    \n",
       "alcohol consumer                 0     0       0        0  144627      0   \n",
       "low-income family           306488  4984  158912  1268687       0  34980   \n",
       "low-income retired           59712  1022   29074   235242       0   5660   \n",
       "low-income young adult        1011    21     455     4004       0    132   \n",
       "lower-middle-income family  429412  7058  226026  1877235       0  53515   \n",
       "non-vegetarian                   0     0       0        0       0      0   \n",
       "other_profiles              395206  6694  212811  1709158       0  48748   \n",
       "pet owner                        0     0       0        0       0      0   \n",
       "upper-middle-income family  327599  5156  174420  1425446       0  39850   \n",
       "wealthy family              129485  2148   69746   525658       0  15539   \n",
       "wealthy retired             472818  7328  249384  2033843       0  57567   \n",
       "\n",
       "department_id                   7      8       9     10  ...      12      13  \\\n",
       "profile                                                  ...                   \n",
       "alcohol consumer                 0      0       0     0  ...       0       0   \n",
       "low-income family           435818      0  108702  5680  ...       0  250108   \n",
       "low-income retired          109725      0   17254  1352  ...       0   46053   \n",
       "low-income young adult        2021      0     280     9  ...       0     807   \n",
       "lower-middle-income family  483280      0  172650  6912  ...       0  363467   \n",
       "non-vegetarian                   0      0       0     0  ...  674781       0   \n",
       "other_profiles              484619      0  153591  6048  ...       0  333964   \n",
       "pet owner                        0  93060       0     0  ...       0       0   \n",
       "upper-middle-income family  373310      0  131538  4796  ...       0  281861   \n",
       "wealthy family              146439      0   49902  1670  ...       0  107324   \n",
       "wealthy retired             536689      0  188219  6984  ...       0  399121   \n",
       "\n",
       "department_id                   14      15       16      17     18      19  \\\n",
       "profile                                                                      \n",
       "alcohol consumer                 0       0        0       0      0       0   \n",
       "low-income family           111056  133777   734242  108172  49917  565456   \n",
       "low-income retired           26058   21718   140487   24971   7621  157054   \n",
       "low-income young adult         330     346     2167     354     78    2403   \n",
       "lower-middle-income family  129895  210574  1064668  136579  88304  484266   \n",
       "non-vegetarian                   0       0        0       0      0       0   \n",
       "other_profiles              126671  190020   973292  128622  79027  518031   \n",
       "pet owner                        0       0        0       0      0       0   \n",
       "upper-middle-income family   98360  163174   804724  106431  69181  365755   \n",
       "wealthy family               39047   62243   307050   43272  23723  142021   \n",
       "wealthy retired             139433  230222  1150552  151456  92541  531420   \n",
       "\n",
       "department_id                   20     21  \n",
       "profile                                    \n",
       "alcohol consumer                 0      0  \n",
       "low-income family           147627   9375  \n",
       "low-income retired           28767   1819  \n",
       "low-income young adult         542     30  \n",
       "lower-middle-income family  202606  13497  \n",
       "non-vegetarian                   0      0  \n",
       "other_profiles              191013  12184  \n",
       "pet owner                        0      0  \n",
       "upper-middle-income family  153219   9972  \n",
       "wealthy family               58364   3805  \n",
       "wealthy retired             221696  14086  \n",
       "\n",
       "[11 rows x 21 columns]"
      ]
     },
     "execution_count": 97,
     "metadata": {},
     "output_type": "execute_result"
    }
   ],
   "source": [
    "crosstab_department"
   ]
  },
  {
   "cell_type": "code",
   "execution_count": 98,
   "id": "48aac0ac",
   "metadata": {},
   "outputs": [
    {
     "data": {
      "text/plain": [
       "Text(0.5, 1.0, 'Instacart orders by profile and region')"
      ]
     },
     "execution_count": 98,
     "metadata": {},
     "output_type": "execute_result"
    },
    {
     "data": {
      "image/png": "[encoded data removed]",
      "text/plain": [
       "<Figure size 2000x500 with 1 Axes>"
      ]
     },
     "metadata": {},
     "output_type": "display_data"
    }
   ],
   "source": [
    "# Create a stacked bar graph to plot profile for regions\n",
    "bar_profile_region = crosstab_profile.loc[:,['Midwest','Northeast','South','West']].apply(lambda x: x*100/sum(x), axis=1).plot.bar(stacked=True, rot=20, figsize=(20,5), colormap='tab20c').legend(title=\"Region\", bbox_to_anchor=(1.0,1.0))\n",
    "plt.xlabel(\"\")\n",
    "plt.ylabel(\"% of orders by region\")\n",
    "plt.title (\"Instacart orders by profile and region\")"
   ]
  },
  {
   "cell_type": "code",
   "execution_count": 99,
   "id": "f483718d",
   "metadata": {},
   "outputs": [],
   "source": [
    "# Exporting the profile-region bar chart\n",
    "bar_profile_region.figure.savefig(os.path.join(path, '04 Analysis', 'Visualizations','region_profiles_barchart.png'), bbox_inches = 'tight')"
   ]
  },
  {
   "cell_type": "code",
   "execution_count": 100,
   "id": "27b1c1ae",
   "metadata": {},
   "outputs": [
    {
     "data": {
      "text/plain": [
       "Text(0.5, 1.0, 'Instacart orders by department')"
      ]
     },
     "execution_count": 100,
     "metadata": {},
     "output_type": "execute_result"
    },
    {
     "data": {
      "image/png": "[encoded data removed]",
      "text/plain": [
       "<Figure size 2000x500 with 1 Axes>"
      ]
     },
     "metadata": {},
     "output_type": "display_data"
    }
   ],
   "source": [
    "# Create a stacked bar graph to plot profile for departments\n",
    "bar_dep_region = crosstab_department.loc[:,[1,2,3,4,5,6,7,8,9,10,11,12,13,14,15,16,17,18,19,20,21]].apply(lambda x: x*100/sum(x), axis=1).plot.bar(stacked=True, rot=20, figsize=(20,5), colormap='tab20c').legend(title=\"Region\", bbox_to_anchor=(1.0,1.0))\n",
    "plt.xlabel(\"\")\n",
    "plt.ylabel(\"% of orders by department\")\n",
    "plt.title (\"Instacart orders by department\")"
   ]
  },
  {
   "cell_type": "code",
   "execution_count": 101,
   "id": "d0dce84b",
   "metadata": {},
   "outputs": [],
   "source": [
    "# Exporting the department region bar chart\n",
    "bar_dep_region.figure.savefig(os.path.join(path, '04 Analysis', 'Visualizations','department_profiles_barchart.png'), bbox_inches = 'tight')"
   ]
  },
  {
   "cell_type": "code",
   "execution_count": 102,
   "id": "40781c77",
   "metadata": {},
   "outputs": [],
   "source": [
    "# Creating a crosstab to compare different orders by region and average order\n",
    "crosstab_ord_region1 = pd.crosstab(df_all['region'], df_all['average_order_flag'], dropna = False)"
   ]
  },
  {
   "cell_type": "code",
   "execution_count": 103,
   "id": "72ef51ed",
   "metadata": {},
   "outputs": [
    {
     "data": {
      "text/html": [
       "<div>\n",
       "<style scoped>\n",
       "    .dataframe tbody tr th:only-of-type {\n",
       "        vertical-align: middle;\n",
       "    }\n",
       "\n",
       "    .dataframe tbody tr th {\n",
       "        vertical-align: top;\n",
       "    }\n",
       "\n",
       "    .dataframe thead th {\n",
       "        text-align: right;\n",
       "    }\n",
       "</style>\n",
       "<table border=\"1\" class=\"dataframe\">\n",
       "  <thead>\n",
       "    <tr style=\"text-align: right;\">\n",
       "      <th>average_order_flag</th>\n",
       "      <th>High spender</th>\n",
       "      <th>Low spender</th>\n",
       "    </tr>\n",
       "    <tr>\n",
       "      <th>region</th>\n",
       "      <th></th>\n",
       "      <th></th>\n",
       "    </tr>\n",
       "  </thead>\n",
       "  <tbody>\n",
       "    <tr>\n",
       "      <th>Midwest</th>\n",
       "      <td>148678</td>\n",
       "      <td>7112835</td>\n",
       "    </tr>\n",
       "    <tr>\n",
       "      <th>Northeast</th>\n",
       "      <td>103120</td>\n",
       "      <td>5361565</td>\n",
       "    </tr>\n",
       "    <tr>\n",
       "      <th>South</th>\n",
       "      <td>199339</td>\n",
       "      <td>10111800</td>\n",
       "    </tr>\n",
       "    <tr>\n",
       "      <th>West</th>\n",
       "      <td>152288</td>\n",
       "      <td>7774939</td>\n",
       "    </tr>\n",
       "  </tbody>\n",
       "</table>\n",
       "</div>"
      ],
      "text/plain": [
       "average_order_flag  High spender  Low spender\n",
       "region                                       \n",
       "Midwest                   148678      7112835\n",
       "Northeast                 103120      5361565\n",
       "South                     199339     10111800\n",
       "West                      152288      7774939"
      ]
     },
     "execution_count": 103,
     "metadata": {},
     "output_type": "execute_result"
    }
   ],
   "source": [
    "crosstab_ord_region1"
   ]
  },
  {
   "cell_type": "code",
   "execution_count": 104,
   "id": "bb4f1289",
   "metadata": {},
   "outputs": [
    {
     "data": {
      "text/plain": [
       "Text(0.5, 1.0, 'IC orders by region according to average order')"
      ]
     },
     "execution_count": 104,
     "metadata": {},
     "output_type": "execute_result"
    },
    {
     "data": {
      "image/png": "[encoded data removed]",
      "text/plain": [
       "<Figure size 1000x500 with 1 Axes>"
      ]
     },
     "metadata": {},
     "output_type": "display_data"
    }
   ],
   "source": [
    "# Create a bar chart to show the result\n",
    "barchart_price_region1=crosstab_ord_region1.plot.bar(rot=10, figsize=(10,5), colormap='tab20c').legend(title=\"Average order range\")\n",
    "plt.xlabel(\"\")\n",
    "plt.ylabel(\"Frequency (in millions)\")\n",
    "plt.title(\"IC orders by region according to average order\", fontsize = '15')"
   ]
  },
  {
   "cell_type": "code",
   "execution_count": 105,
   "id": "f9df6603",
   "metadata": {},
   "outputs": [],
   "source": [
    "# Creating a crosstab to compare different orders by region and loyalty\n",
    "crosstab_loyalty = pd.crosstab(df_all['region'], df_all['loyalty_flag'], dropna = False)"
   ]
  },
  {
   "cell_type": "code",
   "execution_count": 106,
   "id": "076bdef3",
   "metadata": {},
   "outputs": [
    {
     "data": {
      "text/html": [
       "<div>\n",
       "<style scoped>\n",
       "    .dataframe tbody tr th:only-of-type {\n",
       "        vertical-align: middle;\n",
       "    }\n",
       "\n",
       "    .dataframe tbody tr th {\n",
       "        vertical-align: top;\n",
       "    }\n",
       "\n",
       "    .dataframe thead th {\n",
       "        text-align: right;\n",
       "    }\n",
       "</style>\n",
       "<table border=\"1\" class=\"dataframe\">\n",
       "  <thead>\n",
       "    <tr style=\"text-align: right;\">\n",
       "      <th>loyalty_flag</th>\n",
       "      <th>Loyal customer</th>\n",
       "      <th>New customer</th>\n",
       "      <th>Regular customer</th>\n",
       "    </tr>\n",
       "    <tr>\n",
       "      <th>region</th>\n",
       "      <th></th>\n",
       "      <th></th>\n",
       "      <th></th>\n",
       "    </tr>\n",
       "  </thead>\n",
       "  <tbody>\n",
       "    <tr>\n",
       "      <th>Midwest</th>\n",
       "      <td>2373774</td>\n",
       "      <td>1136761</td>\n",
       "      <td>3750978</td>\n",
       "    </tr>\n",
       "    <tr>\n",
       "      <th>Northeast</th>\n",
       "      <td>1841785</td>\n",
       "      <td>842156</td>\n",
       "      <td>2780744</td>\n",
       "    </tr>\n",
       "    <tr>\n",
       "      <th>South</th>\n",
       "      <td>3405844</td>\n",
       "      <td>1593664</td>\n",
       "      <td>5311631</td>\n",
       "    </tr>\n",
       "    <tr>\n",
       "      <th>West</th>\n",
       "      <td>2662690</td>\n",
       "      <td>1231114</td>\n",
       "      <td>4033423</td>\n",
       "    </tr>\n",
       "  </tbody>\n",
       "</table>\n",
       "</div>"
      ],
      "text/plain": [
       "loyalty_flag  Loyal customer  New customer  Regular customer\n",
       "region                                                      \n",
       "Midwest              2373774       1136761           3750978\n",
       "Northeast            1841785        842156           2780744\n",
       "South                3405844       1593664           5311631\n",
       "West                 2662690       1231114           4033423"
      ]
     },
     "execution_count": 106,
     "metadata": {},
     "output_type": "execute_result"
    }
   ],
   "source": [
    "crosstab_loyalty"
   ]
  },
  {
   "cell_type": "code",
   "execution_count": 107,
   "id": "e817ebe3",
   "metadata": {},
   "outputs": [
    {
     "data": {
      "text/plain": [
       "Text(0.5, 1.0, 'IC orders by region and loyalty')"
      ]
     },
     "execution_count": 107,
     "metadata": {},
     "output_type": "execute_result"
    },
    {
     "data": {
      "image/png": "[encoded data removed]",
      "text/plain": [
       "<Figure size 1000x500 with 1 Axes>"
      ]
     },
     "metadata": {},
     "output_type": "display_data"
    }
   ],
   "source": [
    "# Create a bar chart to show the result\n",
    "barchart_loyalty=crosstab_loyalty.plot.bar(rot=10, figsize=(10,5), colormap='tab20c').legend(title=\"Loyalty flag\")\n",
    "plt.xlabel(\"\")\n",
    "plt.ylabel(\"Frequency (in millions)\")\n",
    "plt.title(\"IC orders by region and loyalty\", fontsize = '15')"
   ]
  },
  {
   "cell_type": "code",
   "execution_count": 108,
   "id": "08dd9be2",
   "metadata": {},
   "outputs": [],
   "source": [
    "# Creating a crosstab to compare different orders by region and income\n",
    "crosstab_income = pd.crosstab(df_all['region'], df_all['income_flag'], dropna = False)"
   ]
  },
  {
   "cell_type": "code",
   "execution_count": 109,
   "id": "b50b6101",
   "metadata": {},
   "outputs": [
    {
     "data": {
      "text/html": [
       "<div>\n",
       "<style scoped>\n",
       "    .dataframe tbody tr th:only-of-type {\n",
       "        vertical-align: middle;\n",
       "    }\n",
       "\n",
       "    .dataframe tbody tr th {\n",
       "        vertical-align: top;\n",
       "    }\n",
       "\n",
       "    .dataframe thead th {\n",
       "        text-align: right;\n",
       "    }\n",
       "</style>\n",
       "<table border=\"1\" class=\"dataframe\">\n",
       "  <thead>\n",
       "    <tr style=\"text-align: right;\">\n",
       "      <th>income_flag</th>\n",
       "      <th>High income</th>\n",
       "      <th>Low income</th>\n",
       "      <th>Lower Middle income</th>\n",
       "      <th>Upper Middle income</th>\n",
       "    </tr>\n",
       "    <tr>\n",
       "      <th>region</th>\n",
       "      <th></th>\n",
       "      <th></th>\n",
       "      <th></th>\n",
       "      <th></th>\n",
       "    </tr>\n",
       "  </thead>\n",
       "  <tbody>\n",
       "    <tr>\n",
       "      <th>Midwest</th>\n",
       "      <td>917495</td>\n",
       "      <td>1638866</td>\n",
       "      <td>2222554</td>\n",
       "      <td>2482598</td>\n",
       "    </tr>\n",
       "    <tr>\n",
       "      <th>Northeast</th>\n",
       "      <td>677730</td>\n",
       "      <td>1247015</td>\n",
       "      <td>1701186</td>\n",
       "      <td>1838754</td>\n",
       "    </tr>\n",
       "    <tr>\n",
       "      <th>South</th>\n",
       "      <td>1290460</td>\n",
       "      <td>2392126</td>\n",
       "      <td>3255068</td>\n",
       "      <td>3373485</td>\n",
       "    </tr>\n",
       "    <tr>\n",
       "      <th>West</th>\n",
       "      <td>1009590</td>\n",
       "      <td>1829332</td>\n",
       "      <td>2471015</td>\n",
       "      <td>2617290</td>\n",
       "    </tr>\n",
       "  </tbody>\n",
       "</table>\n",
       "</div>"
      ],
      "text/plain": [
       "income_flag  High income  Low income  Lower Middle income  Upper Middle income\n",
       "region                                                                        \n",
       "Midwest           917495     1638866              2222554              2482598\n",
       "Northeast         677730     1247015              1701186              1838754\n",
       "South            1290460     2392126              3255068              3373485\n",
       "West             1009590     1829332              2471015              2617290"
      ]
     },
     "execution_count": 109,
     "metadata": {},
     "output_type": "execute_result"
    }
   ],
   "source": [
    "crosstab_income"
   ]
  },
  {
   "cell_type": "code",
   "execution_count": 110,
   "id": "351d8fb9",
   "metadata": {},
   "outputs": [
    {
     "data": {
      "text/plain": [
       "Text(0.5, 1.0, 'IC orders by region and income')"
      ]
     },
     "execution_count": 110,
     "metadata": {},
     "output_type": "execute_result"
    },
    {
     "data": {
      "image/png": "[encoded data removed]",
      "text/plain": [
       "<Figure size 1200x500 with 1 Axes>"
      ]
     },
     "metadata": {},
     "output_type": "display_data"
    }
   ],
   "source": [
    "# Create a bar chart to show the result\n",
    "barchart_income=crosstab_income.plot.bar(rot=10, figsize=(12,5), colormap='tab20c').legend(title=\"Income\")\n",
    "plt.xlabel(\"\")\n",
    "plt.ylabel(\"Frequency (in millions)\")\n",
    "plt.title(\"IC orders by region and income\", fontsize = '15')"
   ]
  },
  {
   "cell_type": "code",
   "execution_count": 111,
   "id": "86ef48de",
   "metadata": {},
   "outputs": [],
   "source": [
    "# Creating a crosstab to show the loyalty according to \n",
    "crosstab_dept= pd.crosstab(df_all['department_id'], df_all['age_flag'], dropna = False)"
   ]
  },
  {
   "cell_type": "code",
   "execution_count": 112,
   "id": "e83433d7",
   "metadata": {},
   "outputs": [
    {
     "data": {
      "text/html": [
       "<div>\n",
       "<style scoped>\n",
       "    .dataframe tbody tr th:only-of-type {\n",
       "        vertical-align: middle;\n",
       "    }\n",
       "\n",
       "    .dataframe tbody tr th {\n",
       "        vertical-align: top;\n",
       "    }\n",
       "\n",
       "    .dataframe thead th {\n",
       "        text-align: right;\n",
       "    }\n",
       "</style>\n",
       "<table border=\"1\" class=\"dataframe\">\n",
       "  <thead>\n",
       "    <tr style=\"text-align: right;\">\n",
       "      <th>age_flag</th>\n",
       "      <th>Adult</th>\n",
       "      <th>Middle aged</th>\n",
       "      <th>Senior</th>\n",
       "      <th>Young adult</th>\n",
       "    </tr>\n",
       "    <tr>\n",
       "      <th>department_id</th>\n",
       "      <th></th>\n",
       "      <th></th>\n",
       "      <th></th>\n",
       "      <th></th>\n",
       "    </tr>\n",
       "  </thead>\n",
       "  <tbody>\n",
       "    <tr>\n",
       "      <th>1</th>\n",
       "      <td>656244</td>\n",
       "      <td>667149</td>\n",
       "      <td>564250</td>\n",
       "      <td>201204</td>\n",
       "    </tr>\n",
       "    <tr>\n",
       "      <th>2</th>\n",
       "      <td>10731</td>\n",
       "      <td>10811</td>\n",
       "      <td>8946</td>\n",
       "      <td>3348</td>\n",
       "    </tr>\n",
       "    <tr>\n",
       "      <th>3</th>\n",
       "      <td>350445</td>\n",
       "      <td>350804</td>\n",
       "      <td>295997</td>\n",
       "      <td>105975</td>\n",
       "    </tr>\n",
       "    <tr>\n",
       "      <th>4</th>\n",
       "      <td>2840988</td>\n",
       "      <td>2830853</td>\n",
       "      <td>2408104</td>\n",
       "      <td>860551</td>\n",
       "    </tr>\n",
       "    <tr>\n",
       "      <th>5</th>\n",
       "      <td>43878</td>\n",
       "      <td>46579</td>\n",
       "      <td>36693</td>\n",
       "      <td>14418</td>\n",
       "    </tr>\n",
       "    <tr>\n",
       "      <th>6</th>\n",
       "      <td>80439</td>\n",
       "      <td>79743</td>\n",
       "      <td>67199</td>\n",
       "      <td>24461</td>\n",
       "    </tr>\n",
       "    <tr>\n",
       "      <th>7</th>\n",
       "      <td>793938</td>\n",
       "      <td>814687</td>\n",
       "      <td>684020</td>\n",
       "      <td>241114</td>\n",
       "    </tr>\n",
       "    <tr>\n",
       "      <th>8</th>\n",
       "      <td>28348</td>\n",
       "      <td>28293</td>\n",
       "      <td>25115</td>\n",
       "      <td>10291</td>\n",
       "    </tr>\n",
       "    <tr>\n",
       "      <th>9</th>\n",
       "      <td>256165</td>\n",
       "      <td>256920</td>\n",
       "      <td>217316</td>\n",
       "      <td>78524</td>\n",
       "    </tr>\n",
       "    <tr>\n",
       "      <th>10</th>\n",
       "      <td>10441</td>\n",
       "      <td>10298</td>\n",
       "      <td>8945</td>\n",
       "      <td>3234</td>\n",
       "    </tr>\n",
       "    <tr>\n",
       "      <th>11</th>\n",
       "      <td>131984</td>\n",
       "      <td>134736</td>\n",
       "      <td>111052</td>\n",
       "      <td>39543</td>\n",
       "    </tr>\n",
       "    <tr>\n",
       "      <th>12</th>\n",
       "      <td>208467</td>\n",
       "      <td>209927</td>\n",
       "      <td>181150</td>\n",
       "      <td>64584</td>\n",
       "    </tr>\n",
       "    <tr>\n",
       "      <th>13</th>\n",
       "      <td>554692</td>\n",
       "      <td>558929</td>\n",
       "      <td>472383</td>\n",
       "      <td>169094</td>\n",
       "    </tr>\n",
       "    <tr>\n",
       "      <th>14</th>\n",
       "      <td>208832</td>\n",
       "      <td>211274</td>\n",
       "      <td>175296</td>\n",
       "      <td>64858</td>\n",
       "    </tr>\n",
       "    <tr>\n",
       "      <th>15</th>\n",
       "      <td>317197</td>\n",
       "      <td>315774</td>\n",
       "      <td>267509</td>\n",
       "      <td>96056</td>\n",
       "    </tr>\n",
       "    <tr>\n",
       "      <th>16</th>\n",
       "      <td>1623468</td>\n",
       "      <td>1612490</td>\n",
       "      <td>1368072</td>\n",
       "      <td>493046</td>\n",
       "    </tr>\n",
       "    <tr>\n",
       "      <th>17</th>\n",
       "      <td>217348</td>\n",
       "      <td>218860</td>\n",
       "      <td>186630</td>\n",
       "      <td>65892</td>\n",
       "    </tr>\n",
       "    <tr>\n",
       "      <th>18</th>\n",
       "      <td>128453</td>\n",
       "      <td>129910</td>\n",
       "      <td>106204</td>\n",
       "      <td>39011</td>\n",
       "    </tr>\n",
       "    <tr>\n",
       "      <th>19</th>\n",
       "      <td>867090</td>\n",
       "      <td>867564</td>\n",
       "      <td>728549</td>\n",
       "      <td>260711</td>\n",
       "    </tr>\n",
       "    <tr>\n",
       "      <th>20</th>\n",
       "      <td>314553</td>\n",
       "      <td>314110</td>\n",
       "      <td>265199</td>\n",
       "      <td>94465</td>\n",
       "    </tr>\n",
       "    <tr>\n",
       "      <th>21</th>\n",
       "      <td>20074</td>\n",
       "      <td>20340</td>\n",
       "      <td>16915</td>\n",
       "      <td>6357</td>\n",
       "    </tr>\n",
       "  </tbody>\n",
       "</table>\n",
       "</div>"
      ],
      "text/plain": [
       "age_flag         Adult  Middle aged   Senior  Young adult\n",
       "department_id                                            \n",
       "1               656244       667149   564250       201204\n",
       "2                10731        10811     8946         3348\n",
       "3               350445       350804   295997       105975\n",
       "4              2840988      2830853  2408104       860551\n",
       "5                43878        46579    36693        14418\n",
       "6                80439        79743    67199        24461\n",
       "7               793938       814687   684020       241114\n",
       "8                28348        28293    25115        10291\n",
       "9               256165       256920   217316        78524\n",
       "10               10441        10298     8945         3234\n",
       "11              131984       134736   111052        39543\n",
       "12              208467       209927   181150        64584\n",
       "13              554692       558929   472383       169094\n",
       "14              208832       211274   175296        64858\n",
       "15              317197       315774   267509        96056\n",
       "16             1623468      1612490  1368072       493046\n",
       "17              217348       218860   186630        65892\n",
       "18              128453       129910   106204        39011\n",
       "19              867090       867564   728549       260711\n",
       "20              314553       314110   265199        94465\n",
       "21               20074        20340    16915         6357"
      ]
     },
     "execution_count": 112,
     "metadata": {},
     "output_type": "execute_result"
    }
   ],
   "source": [
    "crosstab_dept"
   ]
  },
  {
   "cell_type": "code",
   "execution_count": 113,
   "id": "167d2ef8",
   "metadata": {},
   "outputs": [
    {
     "data": {
      "text/plain": [
       "Text(0.5, 1.0, 'IC orders by department and age')"
      ]
     },
     "execution_count": 113,
     "metadata": {},
     "output_type": "execute_result"
    },
    {
     "data": {
      "image/png": "[encoded data removed]",
      "text/plain": [
       "<Figure size 1000x500 with 1 Axes>"
      ]
     },
     "metadata": {},
     "output_type": "display_data"
    }
   ],
   "source": [
    "# Create a bar chart to show the result\n",
    "barchart_age_dept=crosstab_dept.plot.bar(rot=10, figsize=(10,5), colormap='tab20c').legend(title=\"Age range\")\n",
    "plt.xlabel(\"\")\n",
    "plt.ylabel(\"Milions of orders\")\n",
    "plt.title(\"IC orders by department and age\", fontsize = '15')"
   ]
  },
  {
   "cell_type": "code",
   "execution_count": 114,
   "id": "cab82d0f",
   "metadata": {},
   "outputs": [],
   "source": [
    "# Creating a crosstab to show the orders by department and order habits\n",
    "crosstab_ordertime= pd.crosstab(df_all['department_id'], df_all['order_time'], dropna = False)"
   ]
  },
  {
   "cell_type": "code",
   "execution_count": 115,
   "id": "5b2ac788",
   "metadata": {},
   "outputs": [
    {
     "data": {
      "text/html": [
       "<div>\n",
       "<style scoped>\n",
       "    .dataframe tbody tr th:only-of-type {\n",
       "        vertical-align: middle;\n",
       "    }\n",
       "\n",
       "    .dataframe tbody tr th {\n",
       "        vertical-align: top;\n",
       "    }\n",
       "\n",
       "    .dataframe thead th {\n",
       "        text-align: right;\n",
       "    }\n",
       "</style>\n",
       "<table border=\"1\" class=\"dataframe\">\n",
       "  <thead>\n",
       "    <tr style=\"text-align: right;\">\n",
       "      <th>order_time</th>\n",
       "      <th>Early bird</th>\n",
       "      <th>Night owl</th>\n",
       "      <th>Regular customer</th>\n",
       "    </tr>\n",
       "    <tr>\n",
       "      <th>department_id</th>\n",
       "      <th></th>\n",
       "      <th></th>\n",
       "      <th></th>\n",
       "    </tr>\n",
       "  </thead>\n",
       "  <tbody>\n",
       "    <tr>\n",
       "      <th>1</th>\n",
       "      <td>314664</td>\n",
       "      <td>109497</td>\n",
       "      <td>1697570</td>\n",
       "    </tr>\n",
       "    <tr>\n",
       "      <th>2</th>\n",
       "      <td>5437</td>\n",
       "      <td>1739</td>\n",
       "      <td>27235</td>\n",
       "    </tr>\n",
       "    <tr>\n",
       "      <th>3</th>\n",
       "      <td>190359</td>\n",
       "      <td>52456</td>\n",
       "      <td>878013</td>\n",
       "    </tr>\n",
       "    <tr>\n",
       "      <th>4</th>\n",
       "      <td>1528725</td>\n",
       "      <td>487212</td>\n",
       "      <td>7063336</td>\n",
       "    </tr>\n",
       "    <tr>\n",
       "      <th>5</th>\n",
       "      <td>17543</td>\n",
       "      <td>3756</td>\n",
       "      <td>123328</td>\n",
       "    </tr>\n",
       "    <tr>\n",
       "      <th>6</th>\n",
       "      <td>38263</td>\n",
       "      <td>13573</td>\n",
       "      <td>204155</td>\n",
       "    </tr>\n",
       "    <tr>\n",
       "      <th>7</th>\n",
       "      <td>435124</td>\n",
       "      <td>118203</td>\n",
       "      <td>2018574</td>\n",
       "    </tr>\n",
       "    <tr>\n",
       "      <th>8</th>\n",
       "      <td>13722</td>\n",
       "      <td>4453</td>\n",
       "      <td>74885</td>\n",
       "    </tr>\n",
       "    <tr>\n",
       "      <th>9</th>\n",
       "      <td>127516</td>\n",
       "      <td>41966</td>\n",
       "      <td>652654</td>\n",
       "    </tr>\n",
       "    <tr>\n",
       "      <th>10</th>\n",
       "      <td>5651</td>\n",
       "      <td>1777</td>\n",
       "      <td>26023</td>\n",
       "    </tr>\n",
       "    <tr>\n",
       "      <th>11</th>\n",
       "      <td>68075</td>\n",
       "      <td>22430</td>\n",
       "      <td>333801</td>\n",
       "    </tr>\n",
       "    <tr>\n",
       "      <th>12</th>\n",
       "      <td>108399</td>\n",
       "      <td>33362</td>\n",
       "      <td>533020</td>\n",
       "    </tr>\n",
       "    <tr>\n",
       "      <th>13</th>\n",
       "      <td>281110</td>\n",
       "      <td>93915</td>\n",
       "      <td>1407680</td>\n",
       "    </tr>\n",
       "    <tr>\n",
       "      <th>14</th>\n",
       "      <td>123190</td>\n",
       "      <td>32609</td>\n",
       "      <td>515051</td>\n",
       "    </tr>\n",
       "    <tr>\n",
       "      <th>15</th>\n",
       "      <td>157879</td>\n",
       "      <td>51963</td>\n",
       "      <td>802232</td>\n",
       "    </tr>\n",
       "    <tr>\n",
       "      <th>16</th>\n",
       "      <td>915940</td>\n",
       "      <td>254269</td>\n",
       "      <td>4006973</td>\n",
       "    </tr>\n",
       "    <tr>\n",
       "      <th>17</th>\n",
       "      <td>118395</td>\n",
       "      <td>35223</td>\n",
       "      <td>546239</td>\n",
       "    </tr>\n",
       "    <tr>\n",
       "      <th>18</th>\n",
       "      <td>82595</td>\n",
       "      <td>21495</td>\n",
       "      <td>306302</td>\n",
       "    </tr>\n",
       "    <tr>\n",
       "      <th>19</th>\n",
       "      <td>463794</td>\n",
       "      <td>126122</td>\n",
       "      <td>2176490</td>\n",
       "    </tr>\n",
       "    <tr>\n",
       "      <th>20</th>\n",
       "      <td>160165</td>\n",
       "      <td>49317</td>\n",
       "      <td>794352</td>\n",
       "    </tr>\n",
       "    <tr>\n",
       "      <th>21</th>\n",
       "      <td>10401</td>\n",
       "      <td>3608</td>\n",
       "      <td>50759</td>\n",
       "    </tr>\n",
       "  </tbody>\n",
       "</table>\n",
       "</div>"
      ],
      "text/plain": [
       "order_time     Early bird  Night owl  Regular customer\n",
       "department_id                                         \n",
       "1                  314664     109497           1697570\n",
       "2                    5437       1739             27235\n",
       "3                  190359      52456            878013\n",
       "4                 1528725     487212           7063336\n",
       "5                   17543       3756            123328\n",
       "6                   38263      13573            204155\n",
       "7                  435124     118203           2018574\n",
       "8                   13722       4453             74885\n",
       "9                  127516      41966            652654\n",
       "10                   5651       1777             26023\n",
       "11                  68075      22430            333801\n",
       "12                 108399      33362            533020\n",
       "13                 281110      93915           1407680\n",
       "14                 123190      32609            515051\n",
       "15                 157879      51963            802232\n",
       "16                 915940     254269           4006973\n",
       "17                 118395      35223            546239\n",
       "18                  82595      21495            306302\n",
       "19                 463794     126122           2176490\n",
       "20                 160165      49317            794352\n",
       "21                  10401       3608             50759"
      ]
     },
     "execution_count": 115,
     "metadata": {},
     "output_type": "execute_result"
    }
   ],
   "source": [
    "crosstab_ordertime"
   ]
  },
  {
   "cell_type": "code",
   "execution_count": 116,
   "id": "11dd8d15",
   "metadata": {},
   "outputs": [
    {
     "data": {
      "text/plain": [
       "Text(0.5, 1.0, 'IC orders by department and order time habits')"
      ]
     },
     "execution_count": 116,
     "metadata": {},
     "output_type": "execute_result"
    },
    {
     "data": {
      "image/png": "[encoded data removed]",
      "text/plain": [
       "<Figure size 1000x500 with 1 Axes>"
      ]
     },
     "metadata": {},
     "output_type": "display_data"
    }
   ],
   "source": [
    "# Create a bar chart to show the result\n",
    "barchart_habit_dept=crosstab_ordertime.plot.bar(rot=10, figsize=(10,5), colormap='tab20c').legend(title=\"Order time habits\")\n",
    "plt.xlabel(\"\")\n",
    "plt.ylabel(\"Frequency (in millions)\")\n",
    "plt.title(\"IC orders by department and order time habits\", fontsize = '15')"
   ]
  },
  {
   "cell_type": "markdown",
   "id": "2acd31f5",
   "metadata": {},
   "source": [
    "According to the above visualization, alcohol is the most popular product that is purchased throughout the day (10 a.m. - 22 p.m.)"
   ]
  },
  {
   "cell_type": "code",
   "execution_count": 117,
   "id": "f6559ca9",
   "metadata": {},
   "outputs": [],
   "source": [
    "# Creating a crosstab to show the loyalty according to family composition\n",
    "crosstab_family_loyalty= pd.crosstab(df_all['family_flag'], df_all['loyalty_flag'], dropna = False)"
   ]
  },
  {
   "cell_type": "code",
   "execution_count": 118,
   "id": "6670f9bb",
   "metadata": {},
   "outputs": [
    {
     "data": {
      "text/html": [
       "<div>\n",
       "<style scoped>\n",
       "    .dataframe tbody tr th:only-of-type {\n",
       "        vertical-align: middle;\n",
       "    }\n",
       "\n",
       "    .dataframe tbody tr th {\n",
       "        vertical-align: top;\n",
       "    }\n",
       "\n",
       "    .dataframe thead th {\n",
       "        text-align: right;\n",
       "    }\n",
       "</style>\n",
       "<table border=\"1\" class=\"dataframe\">\n",
       "  <thead>\n",
       "    <tr style=\"text-align: right;\">\n",
       "      <th>loyalty_flag</th>\n",
       "      <th>Loyal customer</th>\n",
       "      <th>New customer</th>\n",
       "      <th>Regular customer</th>\n",
       "    </tr>\n",
       "    <tr>\n",
       "      <th>family_flag</th>\n",
       "      <th></th>\n",
       "      <th></th>\n",
       "      <th></th>\n",
       "    </tr>\n",
       "  </thead>\n",
       "  <tbody>\n",
       "    <tr>\n",
       "      <th>Big family</th>\n",
       "      <td>2582679</td>\n",
       "      <td>1196502</td>\n",
       "      <td>3993335</td>\n",
       "    </tr>\n",
       "    <tr>\n",
       "      <th>No kids</th>\n",
       "      <td>2588844</td>\n",
       "      <td>1201265</td>\n",
       "      <td>3949572</td>\n",
       "    </tr>\n",
       "    <tr>\n",
       "      <th>Small family</th>\n",
       "      <td>5112570</td>\n",
       "      <td>2405928</td>\n",
       "      <td>7933869</td>\n",
       "    </tr>\n",
       "  </tbody>\n",
       "</table>\n",
       "</div>"
      ],
      "text/plain": [
       "loyalty_flag  Loyal customer  New customer  Regular customer\n",
       "family_flag                                                 \n",
       "Big family           2582679       1196502           3993335\n",
       "No kids              2588844       1201265           3949572\n",
       "Small family         5112570       2405928           7933869"
      ]
     },
     "execution_count": 118,
     "metadata": {},
     "output_type": "execute_result"
    }
   ],
   "source": [
    "crosstab_family_loyalty"
   ]
  },
  {
   "cell_type": "code",
   "execution_count": 119,
   "id": "4c0bb891",
   "metadata": {},
   "outputs": [
    {
     "data": {
      "text/plain": [
       "Text(0.5, 1.0, 'IC customers loyalty according to family composition')"
      ]
     },
     "execution_count": 119,
     "metadata": {},
     "output_type": "execute_result"
    },
    {
     "data": {
      "image/png": "[encoded data removed]",
      "text/plain": [
       "<Figure size 1000x500 with 1 Axes>"
      ]
     },
     "metadata": {},
     "output_type": "display_data"
    }
   ],
   "source": [
    "# Create a bar chart to show the result\n",
    "barchart_family_loyalty=crosstab_family_loyalty.plot.bar(rot=10, figsize=(10,5), colormap='tab20c').legend(title=\"Family composition\")\n",
    "plt.xlabel(\"\")\n",
    "plt.ylabel(\"Frequency (in millions)\")\n",
    "plt.title(\"IC customers loyalty according to family composition\", fontsize = '15')"
   ]
  },
  {
   "cell_type": "code",
   "execution_count": 120,
   "id": "ac84fafd",
   "metadata": {},
   "outputs": [
    {
     "data": {
      "text/plain": [
       "Text(0.5, 1.0, 'Product prices on Instacart')"
      ]
     },
     "execution_count": 120,
     "metadata": {},
     "output_type": "execute_result"
    },
    {
     "data": {
      "image/png": "[encoded data removed]",
      "text/plain": [
       "<Figure size 640x480 with 1 Axes>"
      ]
     },
     "metadata": {},
     "output_type": "display_data"
    }
   ],
   "source": [
    "# Creating a histogram with the product prices\n",
    "hist_price_frequency =df_all['prices'].plot.hist(bins = 20, color = 'gray', rwidth = 0.9)\n",
    "plt.xlabel(\"\")\n",
    "plt.ylabel(\"Frequency (in millions)\")\n",
    "plt.title (\"Product prices on Instacart\")"
   ]
  },
  {
   "cell_type": "markdown",
   "id": "1ecf9f52",
   "metadata": {},
   "source": [
    "# Compare your customer profiles with regions and departments. Can you identify a link between them? Customers may demonstrate different behaviors across regions, which could make this information important.\n",
    "The various client profiles often don't show any clear tendency. The South States have the highest concentrations of loyal, high spenders as well as wealthy clients. Alcohol is the item that customers order from IC the most. Moreover, the most popular goods purchased cost less than $15. We can tailor promotions and marketing campaigns with the use of this data."
   ]
  },
  {
   "cell_type": "markdown",
   "id": "1b91dcec",
   "metadata": {},
   "source": [
    "# 9. Export dataset and visualizations"
   ]
  },
  {
   "cell_type": "code",
   "execution_count": 121,
   "id": "72e0f921",
   "metadata": {},
   "outputs": [],
   "source": [
    "# Export data to pkl\n",
    "df_all.to_pickle(os.path.join(path, '02 Data','Prepared Data', 'df_final_complete.pkl'))"
   ]
  },
  {
   "cell_type": "code",
   "execution_count": 122,
   "id": "d72eae86",
   "metadata": {},
   "outputs": [],
   "source": [
    "barchart_price_region1.figure.savefig(os.path.join(path, '04 Analysis', 'Visualizations','barchart_price_region1.png'))"
   ]
  },
  {
   "cell_type": "code",
   "execution_count": 123,
   "id": "8dca4be0",
   "metadata": {},
   "outputs": [],
   "source": [
    "barchart_loyalty.figure.savefig(os.path.join(path, '04 Analysis', 'Visualizations','barchart_loyalty.png'))"
   ]
  },
  {
   "cell_type": "code",
   "execution_count": 124,
   "id": "1d04df5f",
   "metadata": {},
   "outputs": [],
   "source": [
    "barchart_income.figure.savefig(os.path.join(path, '04 Analysis', 'Visualizations','barchart_income.png'))"
   ]
  },
  {
   "cell_type": "code",
   "execution_count": 125,
   "id": "64e33ac9",
   "metadata": {},
   "outputs": [],
   "source": [
    "barchart_habit_dept.figure.savefig(os.path.join(path, '04 Analysis', 'Visualizations','barchart_habit_dept.png'))"
   ]
  },
  {
   "cell_type": "code",
   "execution_count": 126,
   "id": "c6fae07c",
   "metadata": {},
   "outputs": [],
   "source": [
    "barchart_family_loyalty.figure.savefig(os.path.join(path, '04 Analysis', 'Visualizations','barchart_family_loyalty.png'))"
   ]
  },
  {
   "cell_type": "code",
   "execution_count": 127,
   "id": "02ce6b4e",
   "metadata": {},
   "outputs": [],
   "source": [
    "hist_price_frequency.figure.savefig(os.path.join(path, '04 Analysis', 'Visualizations','hist_price_frequency.png'))"
   ]
  }
 ],
 "metadata": {
  "kernelspec": {
   "display_name": "Python 3 (ipykernel)",
   "language": "python",
   "name": "python3"
  },
  "language_info": {
   "codemirror_mode": {
    "name": "ipython",
    "version": 3
   },
   "file_extension": ".py",
   "mimetype": "text/x-python",
   "name": "python",
   "nbconvert_exporter": "python",
   "pygments_lexer": "ipython3",
   "version": "3.9.13"
  }
 },
 "nbformat": 4,
 "nbformat_minor": 5
}
